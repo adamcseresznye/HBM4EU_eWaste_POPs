{
 "cells": [
  {
   "cell_type": "markdown",
   "id": "8ae3ae3c-4a7b-4395-bc99-df902e6701d3",
   "metadata": {},
   "source": [
    "# Imports"
   ]
  },
  {
   "cell_type": "code",
   "execution_count": null,
   "id": "1fcbed05-cc9f-4bbc-9fad-f9cdb611dff8",
   "metadata": {
    "tags": []
   },
   "outputs": [],
   "source": [
    "import warnings\n",
    "\n",
    "warnings.simplefilter(action=\"ignore\", category=FutureWarning)\n",
    "\n",
    "from collections import defaultdict\n",
    "\n",
    "import common_functions\n",
    "import matplotlib.pyplot as plt\n",
    "import numpy as np\n",
    "import pandas as pd\n",
    "import seaborn as sns\n",
    "import secret\n",
    "import statsmodels.api as sm\n",
    "import statsmodels.formula.api as smf\n",
    "import utils\n",
    "from matplotlib.ticker import FormatStrFormatter\n",
    "from scipy import stats\n",
    "from statannotations.Annotator import Annotator\n",
    "from statsmodels.stats.outliers_influence import variance_inflation_factor"
   ]
  },
  {
   "cell_type": "markdown",
   "id": "4fde7680-83a3-489f-a2ec-ebd0e6399ca2",
   "metadata": {},
   "source": [
    "# Aim of this notebook  \n",
    "\n",
    "\n",
    "1. Describe POP levels in settled dust and wristband\n",
    "2. Investigate correations among matrices measured\n",
    "\n"
   ]
  },
  {
   "cell_type": "code",
   "execution_count": null,
   "id": "e8bb6c94-781a-4998-b360-5085317f9481",
   "metadata": {},
   "outputs": [],
   "source": [
    "WB_DATA_PATH = utils.Configuration.RAW_DATA_PATH.joinpath(\n",
    "    \"e-Waste WB - Final Results (Results 2nd protocol).xlsx\"\n",
    ")\n",
    "\n",
    "PROCESSED_DATA_PATH = utils.Configuration.INTERIM_DATA_PATH.joinpath(\n",
    "    \"HBM4EU_E-waste_template_V3_all_data_INTERIM.parquet.gzip\"\n",
    ")\n",
    "\n",
    "RAW_DATA_PATH = utils.Configuration.RAW_DATA_PATH.joinpath(\n",
    "    \"HBM4EU_E-waste_template_V3_all_data_2022_11_23.xlsx\"\n",
    ")"
   ]
  },
  {
   "cell_type": "markdown",
   "id": "276ebc71-a5b0-48a8-b8b7-fff96e213195",
   "metadata": {},
   "source": [
    "## Read in wristband data, only get IDs we have serum data for and only keep workers"
   ]
  },
  {
   "cell_type": "code",
   "execution_count": null,
   "id": "866994de-27fc-4102-ac8e-396170c23fe2",
   "metadata": {},
   "outputs": [],
   "source": [
    "UA_measured_samples = (\n",
    "    pd.read_parquet(PROCESSED_DATA_PATH)\n",
    "    .reset_index()\n",
    "    .rename(columns={\"index\": \"ID\"})[[\"ID\", \"main_category\"]]\n",
    ")\n",
    "\n",
    "wristband = (\n",
    "    pd.read_excel(\n",
    "        WB_DATA_PATH,\n",
    "        usecols=\"A, F:R\",\n",
    "        skiprows=[1, 2],\n",
    "        nrows=118,\n",
    "    )\n",
    "    .rename(columns={\"Unnamed: 0\": \"ID\"})\n",
    "    .assign(ID=lambda df: df.ID.str[2:-4])\n",
    "    .replace(\"<1\", 0.5)\n",
    "    .replace(\"<10\", 5)\n",
    "    .loc[lambda df: df.ID.isin(UA_measured_samples.ID), :]\n",
    "    .assign(\n",
    "        main_category=lambda df: df.ID.map(\n",
    "            dict(zip(UA_measured_samples.ID, UA_measured_samples.main_category))\n",
    "        ),\n",
    "        company_ID=lambda df: df.ID.str[:5],\n",
    "    )\n",
    "    .query(\"main_category == 'Worker'\")\n",
    "    .reset_index(drop=True)\n",
    ")\n",
    "\n",
    "wristband.to_parquet(\n",
    "    utils.Configuration.INTERIM_DATA_PATH.joinpath(\"wristband.parquet.gzip\"),\n",
    "    compression=\"gzip\",\n",
    ")"
   ]
  },
  {
   "cell_type": "markdown",
   "id": "8545dd7e-967f-4473-8927-6d8371165014",
   "metadata": {},
   "source": [
    "#### Concentration distribution"
   ]
  },
  {
   "cell_type": "code",
   "execution_count": null,
   "id": "2d2a2eec-f48a-428e-aed1-c9d9dde10ec5",
   "metadata": {},
   "outputs": [],
   "source": [
    "(\n",
    "    wristband.drop(columns=[\"company_ID\", \"main_category\"])\n",
    "    .set_index(\"ID\")\n",
    "    .describe()\n",
    "    .round(1)\n",
    "    .transpose()\n",
    "    .loc[:, lambda x: x.columns.isin([\"count\", \"25%\", \"50%\", \"75%\"])]\n",
    ")"
   ]
  },
  {
   "cell_type": "markdown",
   "id": "d82a1c26-e103-40bc-a256-569b1f56f60b",
   "metadata": {},
   "source": [
    "#### Detection frequency"
   ]
  },
  {
   "cell_type": "code",
   "execution_count": null,
   "id": "10887e38-ad3f-4a46-9dd3-e28cf07d12a7",
   "metadata": {},
   "outputs": [],
   "source": [
    "wristband_DF = (\n",
    "    (\n",
    "        1\n",
    "        - wristband.select_dtypes(\"number\")\n",
    "        .round(3)\n",
    "        .apply(lambda x: common_functions.is_detected(x, matrix=\"wristband\"))\n",
    "        .sum()\n",
    "        .div(wristband.shape[0])\n",
    "    )\n",
    "    .mul(100)\n",
    "    .to_frame(name=\"Wristband\")\n",
    "    .round(1)\n",
    ")\n",
    "wristband_DF"
   ]
  },
  {
   "cell_type": "markdown",
   "id": "3d082561-1ff9-4d35-9838-6ca027dcb931",
   "metadata": {},
   "source": [
    "## Read in settled dust data"
   ]
  },
  {
   "cell_type": "code",
   "execution_count": null,
   "id": "f9159da2-64a2-4245-af33-d5bd8b3b96ef",
   "metadata": {},
   "outputs": [],
   "source": [
    "dust = (\n",
    "    pd.read_excel(\n",
    "        io=RAW_DATA_PATH,\n",
    "        sheet_name=\"E-waste study Settled dust\",\n",
    "        usecols=\"A,BU : EV\",\n",
    "        skiprows=3,\n",
    "        skipfooter=10,\n",
    "    )\n",
    "    .loc[3:, lambda df: ~df.columns.str.contains(\"Unnamed\")]\n",
    "    .loc[3:, lambda df: ~df.columns.isin([\"Other PCB (please, name it here)\"])]\n",
    "    .reset_index(drop=True)\n",
    "    .replace(\n",
    "        {\n",
    "            \"<0.1\": 0.05,\n",
    "            \"<1\": 0.5,\n",
    "            \"<0.2\": 0.1,\n",
    "            \"<10\": 5,\n",
    "        }\n",
    "    )\n",
    "    .dropna(how=\"any\", axis=0)\n",
    "    .assign(group=lambda df: df[\"Sample ID\"].str[:-4])\n",
    "    .loc[:, \"PCB 28\":]\n",
    "    # .drop(columns=\"group\")\n",
    "    # .groupby(\"group\")\n",
    "    # .agg(np.mean)\n",
    ")\n",
    "\n",
    "dust.to_parquet(\n",
    "    utils.Configuration.INTERIM_DATA_PATH.joinpath(\"dust.parquet.gzip\"),\n",
    "    compression=\"gzip\",\n",
    ")"
   ]
  },
  {
   "cell_type": "markdown",
   "id": "98a9df19-3460-4d8b-9df7-c201b844c859",
   "metadata": {},
   "source": [
    "#### Concentration distribution"
   ]
  },
  {
   "cell_type": "code",
   "execution_count": null,
   "id": "9eeca637-ef8c-4146-b93f-f2e82640e633",
   "metadata": {},
   "outputs": [],
   "source": [
    "(\n",
    "    dust.describe()\n",
    "    .transpose()\n",
    "    .round(1)\n",
    "    .loc[:, lambda x: x.columns.isin([\"count\", \"25%\", \"50%\", \"75%\"])]\n",
    ")"
   ]
  },
  {
   "cell_type": "markdown",
   "id": "41b7ea1d-aa3b-4c85-aa6c-a08cbd1d0523",
   "metadata": {},
   "source": [
    "#### Detection frequency"
   ]
  },
  {
   "cell_type": "code",
   "execution_count": null,
   "id": "f1d10247-47bf-486e-82d2-b277e0f251a0",
   "metadata": {},
   "outputs": [],
   "source": [
    "dust_DF = (\n",
    "    (\n",
    "        1\n",
    "        - dust.select_dtypes(\"number\")\n",
    "        .round(3)\n",
    "        .apply(lambda x: common_functions.is_detected(x, matrix=\"dust\"))\n",
    "        .sum()\n",
    "        .div(dust.shape[0])\n",
    "    )\n",
    "    .mul(100)\n",
    "    .to_frame(name=\"Dust\")\n",
    "    .round(1)\n",
    ")\n",
    "dust_DF"
   ]
  },
  {
   "cell_type": "markdown",
   "id": "a3b0f5d9-d121-43a4-90d1-a9a651bd3c18",
   "metadata": {},
   "source": [
    "## Correlation analysis\n",
    "### Serum and dust\n"
   ]
  },
  {
   "cell_type": "code",
   "execution_count": null,
   "id": "395c8166-21cb-474e-9eff-b1717c85b85f",
   "metadata": {},
   "outputs": [],
   "source": [
    "DATA_PATH = utils.Configuration.INTERIM_DATA_PATH.joinpath(\n",
    "    \"HBM4EU_E-waste_template_V3_all_data_INTERIM.parquet.gzip\"\n",
    ")\n",
    "\n",
    "serum = pd.read_parquet(DATA_PATH)"
   ]
  },
  {
   "cell_type": "code",
   "execution_count": null,
   "id": "453cc9e4-4916-4d73-808d-5c1fc75c1de5",
   "metadata": {},
   "outputs": [],
   "source": [
    "# Select specific columns from the 'serum' DataFrame\n",
    "serum_dust = (\n",
    "    serum.loc[\n",
    "        :,\n",
    "        lambda df: df.columns.isin(\n",
    "            dust.columns.to_list() + [\"main_category\", \"companyID\"]\n",
    "        ),\n",
    "    ]\n",
    "    # Filter rows where 'main_category' is 'Worker'\n",
    "    .query(\"main_category == 'Worker'\")\n",
    "    # Perform data transformation on the resulting DataFrame\n",
    "    .pipe(\n",
    "        lambda df: df.assign(\n",
    "            **{\n",
    "                col + \"_dust\": lambda df, col=col:\n",
    "                # Map values from 'companyID' using a dictionary created from 'dust'\n",
    "                df.companyID.map(dict(zip(dust.group, dust[col])))\n",
    "                for col in df.loc[\n",
    "                    :, lambda df: df.columns.isin(dust.columns.to_list())\n",
    "                ].columns\n",
    "            }\n",
    "        )\n",
    "    )\n",
    "    # Remove rows with any missing values\n",
    "    .dropna(how=\"any\")\n",
    "    # Select columns from 'PCB 28' onwards\n",
    "    .loc[:, \"PCB 28\":]\n",
    ")"
   ]
  },
  {
   "cell_type": "code",
   "execution_count": null,
   "id": "390993fc-9400-49ed-9c8e-4c98a547629f",
   "metadata": {},
   "outputs": [],
   "source": [
    "serum_dust_dict = {\"correlation\": [], \"p_value\": []}\n",
    "for i in range(0, 15):\n",
    "    print(serum_dust.iloc[:, [i, i + 15]].columns)\n",
    "\n",
    "    serum_dust_dict[\"correlation\"].append(\n",
    "        stats.spearmanr(serum_dust.iloc[:, [i, i + 15]], nan_policy=\"omit\")[0]\n",
    "    )\n",
    "    serum_dust_dict[\"p_value\"].append(\n",
    "        stats.spearmanr(serum_dust.iloc[:, [i, i + 15]], nan_policy=\"omit\")[1]\n",
    "    )"
   ]
  },
  {
   "cell_type": "code",
   "execution_count": null,
   "id": "7c85d5d5-e388-4138-9ff3-f6c6f6412d87",
   "metadata": {},
   "outputs": [],
   "source": [
    "serum_dust_corr = (\n",
    "    pd.DataFrame(serum_dust_dict, index=serum_dust.iloc[:, :15].columns)\n",
    "    .round(4)\n",
    "    .assign(\n",
    "        p_value=lambda df: np.select(\n",
    "            condlist=[df.p_value < 0.01, df.p_value < 0.05, df.p_value < 0.1],\n",
    "            choicelist=[\"***\", \"**\", \"*\"],\n",
    "            default=df.p_value,\n",
    "        )\n",
    "    )\n",
    ")\n",
    "serum_dust_corr"
   ]
  },
  {
   "cell_type": "markdown",
   "id": "805f9806-0e6a-4d8c-aab9-9b12fd02240e",
   "metadata": {},
   "source": [
    "### Serum and wristband"
   ]
  },
  {
   "cell_type": "code",
   "execution_count": null,
   "id": "32bec459-48a1-4b67-b397-b8b2528aa47f",
   "metadata": {},
   "outputs": [],
   "source": [
    "serum_wristband = (\n",
    "    pd.merge(wristband, serum, left_on=\"ID\", right_index=True)\n",
    "    .loc[:, lambda df: df.columns.str.contains(\"PCB|BDE\")]\n",
    "    .loc[:, lambda df: df.columns.unique()]\n",
    "    .dropna(how=\"any\")\n",
    "    .drop(columns=[\"PCB 28\", \"PCB 52\"])\n",
    "    .rename(columns=lambda x: x.replace(\"_x\", \"\").replace(\"_y\", \"\"))\n",
    ")\n",
    "\n",
    "serum_wristband_dict = {\"correlation\": [], \"p_value\": []}\n",
    "\n",
    "for i in serum_wristband.columns.unique():\n",
    "    print(serum_wristband.loc[:, i].columns)\n",
    "    serum_wristband_dict[\"correlation\"].append(\n",
    "        stats.spearmanr(serum_wristband.loc[:, i], nan_policy=\"omit\")[0],\n",
    "    )\n",
    "    serum_wristband_dict[\"p_value\"].append(\n",
    "        stats.spearmanr(serum_wristband.loc[:, i], nan_policy=\"omit\")[1],\n",
    "    )\n",
    "\n",
    "serum_wristband_corr = (\n",
    "    pd.DataFrame(serum_wristband_dict, index=serum_wristband.columns.unique())\n",
    "    .sort_values(by=\"p_value\")\n",
    "    .round(4)\n",
    "    .assign(\n",
    "        p_value=lambda df: np.select(\n",
    "            condlist=[df.p_value < 0.01, df.p_value < 0.05, df.p_value < 0.1],\n",
    "            choicelist=[\"***\", \"**\", \"*\"],\n",
    "            default=df.p_value,\n",
    "        )\n",
    "    )\n",
    ")\n",
    "serum_wristband_corr"
   ]
  },
  {
   "cell_type": "markdown",
   "id": "67e188a8-86a2-47ca-9c9b-9fa9ce92aa58",
   "metadata": {},
   "source": [
    "### Wristband and dust"
   ]
  },
  {
   "cell_type": "code",
   "execution_count": null,
   "id": "a56804de-4800-45dd-bfa2-be78ca227293",
   "metadata": {},
   "outputs": [],
   "source": [
    "wristband_dust = (\n",
    "    wristband.pipe(\n",
    "        lambda df: df.assign(\n",
    "            **{\n",
    "                col\n",
    "                + \"_dust\": lambda df, col=col: df.company_ID.map(\n",
    "                    dict(zip(dust.group, dust[col]))\n",
    "                )\n",
    "                for col in df.loc[\n",
    "                    :, lambda df: df.columns.isin(dust.columns.to_list())\n",
    "                ].columns\n",
    "            }\n",
    "        )\n",
    "    )\n",
    "    .select_dtypes(\"number\")\n",
    "    .rename(columns=lambda x: x.replace(\"_dust\", \"\"))\n",
    "    .loc[:, lambda df: df.columns.unique()]\n",
    "    .iloc[:, :-2]\n",
    "    .dropna(how=\"any\")\n",
    ")\n",
    "\n",
    "wristband_dust_dict = {\"correlation\": [], \"p_value\": []}\n",
    "\n",
    "for i in wristband_dust.columns.unique():\n",
    "    print(wristband_dust.loc[:, i].columns)\n",
    "    wristband_dust_dict[\"correlation\"].append(\n",
    "        stats.spearmanr(wristband_dust.loc[:, i], nan_policy=\"omit\")[0]\n",
    "    )\n",
    "    wristband_dust_dict[\"p_value\"].append(\n",
    "        stats.spearmanr(wristband_dust.loc[:, i], nan_policy=\"omit\")[1]\n",
    "    )\n",
    "\n",
    "wristband_dust_corr = (\n",
    "    pd.DataFrame(wristband_dust_dict, index=wristband_dust.columns.unique())\n",
    "    .sort_values(by=\"p_value\")\n",
    "    .assign(\n",
    "        p_value=lambda df: np.select(\n",
    "            condlist=[df.p_value < 0.01, df.p_value < 0.05, df.p_value < 0.1],\n",
    "            choicelist=[\"***\", \"**\", \"*\"],\n",
    "            default=df.p_value,\n",
    "        )\n",
    "    )\n",
    "    .round(2)\n",
    ")\n",
    "wristband_dust_corr"
   ]
  },
  {
   "cell_type": "code",
   "execution_count": null,
   "id": "7b8bd24c-b69f-4cb4-991e-1f9f05732c9c",
   "metadata": {},
   "outputs": [],
   "source": [
    "pd.concat(\n",
    "    [serum_dust_corr, serum_wristband_corr, wristband_dust_corr],\n",
    "    axis=1,\n",
    ")"
   ]
  },
  {
   "cell_type": "code",
   "execution_count": null,
   "id": "7c5dfdc1-3039-4e19-b74f-b600cd22b344",
   "metadata": {},
   "outputs": [],
   "source": []
  }
 ],
 "metadata": {
  "kernelspec": {
   "display_name": "Python 3 (ipykernel)",
   "language": "python",
   "name": "python3"
  },
  "language_info": {
   "codemirror_mode": {
    "name": "ipython",
    "version": 3
   },
   "file_extension": ".py",
   "mimetype": "text/x-python",
   "name": "python",
   "nbconvert_exporter": "python",
   "pygments_lexer": "ipython3",
   "version": "3.10.12"
  },
  "toc-autonumbering": true,
  "toc-showcode": false,
  "toc-showmarkdowntxt": false,
  "toc-showtags": false
 },
 "nbformat": 4,
 "nbformat_minor": 5
}
