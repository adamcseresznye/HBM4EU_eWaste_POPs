{
 "cells": [
  {
   "cell_type": "markdown",
   "id": "8ae3ae3c-4a7b-4395-bc99-df902e6701d3",
   "metadata": {},
   "source": [
    "# Imports"
   ]
  },
  {
   "cell_type": "code",
   "execution_count": null,
   "id": "1fcbed05-cc9f-4bbc-9fad-f9cdb611dff8",
   "metadata": {
    "tags": []
   },
   "outputs": [],
   "source": [
    "import warnings\n",
    "\n",
    "warnings.simplefilter(action=\"ignore\", category=FutureWarning)\n",
    "\n",
    "from collections import defaultdict\n",
    "\n",
    "import matplotlib.pyplot as plt\n",
    "import numpy as np\n",
    "import pandas as pd\n",
    "import seaborn as sns\n",
    "import statsmodels.api as sm\n",
    "import statsmodels.formula.api as smf\n",
    "from matplotlib.ticker import FormatStrFormatter\n",
    "from scipy import stats\n",
    "from statannotations.Annotator import Annotator\n",
    "from statsmodels.stats.outliers_influence import variance_inflation_factor\n",
    "\n",
    "import common_functions\n",
    "import secret\n",
    "import utils"
   ]
  },
  {
   "cell_type": "markdown",
   "id": "4fde7680-83a3-489f-a2ec-ebd0e6399ca2",
   "metadata": {},
   "source": [
    "# Aim of this notebook  \n",
    "\n",
    "\n",
    "1. Construct GLM models to assess the effects of potential exposure sources and effectiveness of mitigation \n",
    "\n"
   ]
  },
  {
   "cell_type": "code",
   "execution_count": null,
   "id": "e8bb6c94-781a-4998-b360-5085317f9481",
   "metadata": {},
   "outputs": [],
   "source": [
    "DATA_PATH = utils.Configuration.INTERIM_DATA_PATH.joinpath(\n",
    "    \"HBM4EU_E-waste_template_V3_all_data_INTERIM.parquet.gzip\"\n",
    ")\n",
    "\n",
    "df = pd.read_parquet(DATA_PATH).rename(columns=lambda x: x.replace(\"PCB\", \"CB\"))"
   ]
  },
  {
   "cell_type": "code",
   "execution_count": null,
   "id": "1873e8e8-43f5-43bf-b799-eb56d9fcb394",
   "metadata": {},
   "outputs": [],
   "source": [
    "df"
   ]
  },
  {
   "cell_type": "code",
   "execution_count": null,
   "id": "4d460853-4ef8-41a6-ae49-9f78eb9bcc43",
   "metadata": {},
   "outputs": [],
   "source": [
    "columns_to_ignore = [\n",
    "    \"CB 28\",\n",
    "    \"CB 52\",\n",
    "    \"CB 101\",\n",
    "    \"BDE 28\",\n",
    "    \"BDE 47\",\n",
    "    \"BDE 99\",\n",
    "    \"BDE 100\",\n",
    "    \"BDE 153\",\n",
    "    \"BDE 154\",\n",
    "    \"BDE 183\",\n",
    "    \"BDE 209\",\n",
    "    \"Dechlorane\",\n",
    "]\n",
    "\n",
    "df_GLM = (\n",
    "    df.loc[:, lambda df: ~df.columns.isin(columns_to_ignore)]\n",
    "    .rename(columns=lambda df: df.replace(\" \", \"_\"))\n",
    "    .assign(\n",
    "        how_many_km=lambda df: df.how_many_km.fillna(20),\n",
    "        cigarette_smoking=lambda df: df.cigarette_smoking.fillna(\n",
    "            df.cigarette_smoking.value_counts().index[0]\n",
    "        ),\n",
    "        years_smoked=lambda df: df.years_smoked.fillna(0),\n",
    "        cigarettes_per_day=lambda df: df.cigarettes_per_day.mask(\n",
    "            df.cigarette_smoking == \"Former smoker\", 0\n",
    "        ).mask(df.cigarette_smoking == \"No\", 0),\n",
    "        former_smoker_years_ago_stopped=lambda df: df.former_smoker_years_ago_stopped.fillna(\n",
    "            0\n",
    "        ),\n",
    "        former_smoker_cigatette_a_day=lambda df: df.former_smoker_cigatette_a_day.fillna(\n",
    "            0\n",
    "        ),\n",
    "        former_smoker_for_how_many_years=lambda df: df.former_smoker_for_how_many_years.fillna(\n",
    "            0\n",
    "        ),\n",
    "        Tonnes=lambda df: df.Tonnes.replace({\"No\": 0}).astype(float)\n",
    "        # .fillna(0)\n",
    "    )\n",
    "    .assign(\n",
    "        CB_118=lambda df: df.CB_118.fillna(df.CB_118.min()),\n",
    "        CB_138=lambda df: df.CB_138.fillna(df.CB_138.min()),\n",
    "        CB_153=lambda df: df.CB_153.fillna(df.CB_153.min()),\n",
    "        CB_180=lambda df: df.CB_180.fillna(\n",
    "            df.CB_180.min(),\n",
    "        ),\n",
    "        Tonnes=lambda df: df[\"Tonnes\"].fillna(\n",
    "            df.groupby(\"sub_category\")[\"Tonnes\"].transform(\"median\")\n",
    "        ),\n",
    "        Age_binned=lambda df: pd.cut(\n",
    "            df.Age,\n",
    "            bins=[17, 30, 40, 50, 65],\n",
    "            labels=[\n",
    "                \"Between 18 and 30\",\n",
    "                \"Between 30 and 40\",\n",
    "                \"Between 40 and 50\",\n",
    "                \"Over 50\",\n",
    "            ],\n",
    "            right=True,\n",
    "        ).astype(object),\n",
    "        BMI_binned=lambda df: pd.cut(\n",
    "            df.BMI,\n",
    "            bins=[17, 18.5, 25, 30, 45],\n",
    "            labels=[\"underweight\", \"healthy\", \"overweight\", \"obese\"],\n",
    "            right=True,\n",
    "        ).astype(object),\n",
    "        years_worked_binned=lambda df: pd.cut(\n",
    "            df.years_worked,\n",
    "            bins=[-1, 5, 15, 25],\n",
    "            labels=[\n",
    "                \"less than 5\",\n",
    "                \"between 5 and 15\",\n",
    "                \"over 15\",\n",
    "            ],\n",
    "            right=True,\n",
    "        ).astype(object),\n",
    "    )\n",
    "    .fillna(0)\n",
    ")"
   ]
  },
  {
   "cell_type": "code",
   "execution_count": null,
   "id": "c363e3a2-e6fe-44c7-b549-af8581cdbe6c",
   "metadata": {},
   "outputs": [],
   "source": [
    "variables_to_test_1 = df_GLM.drop(\n",
    "    columns=[\"CB_118\", \"CB_138\", \"CB_153\", \"CB_180\"]\n",
    ").select_dtypes(\"number\")\n",
    "\n",
    "vif_1 = pd.DataFrame()\n",
    "vif_1[\"VIF\"] = [\n",
    "    variance_inflation_factor(variables_to_test_1.values, i)\n",
    "    for i in range(variables_to_test_1.shape[1])\n",
    "]\n",
    "vif_1[\"variable\"] = variables_to_test_1.columns\n",
    "vif_1.set_index(\"variable\").plot.bar(legend=False, figsize=(8, 4))"
   ]
  },
  {
   "cell_type": "code",
   "execution_count": null,
   "id": "5f692d7c-9acb-4a20-b4e5-7439dfbe0440",
   "metadata": {},
   "outputs": [],
   "source": [
    "variables_to_test_2 = df_GLM.loc[\n",
    "    :,\n",
    "    lambda df: df.columns.isin(\n",
    "        [\n",
    "            \"Tonnes\",\n",
    "            \"Age\",\n",
    "            \"how_many_km\",\n",
    "            \"years_smoked\",\n",
    "            \"years_worked\",\n",
    "            \"sum_RPE_use\",\n",
    "            \"bool_enclosed_process\",\n",
    "            \"sum_local_exhaust\",\n",
    "            # \"industrial_plants_in_surroundings\",\n",
    "            # \"sub_category\",\n",
    "            # \"Sex\",\n",
    "            # \"home_location\",\n",
    "        ]\n",
    "    ),\n",
    "]\n",
    "vif_2 = pd.DataFrame()\n",
    "vif_2[\"VIF\"] = [\n",
    "    variance_inflation_factor(variables_to_test_2.values, i)\n",
    "    for i in range(variables_to_test_2.shape[1])\n",
    "]\n",
    "vif_2[\"variable\"] = variables_to_test_2.columns\n",
    "vif_2.set_index(\"variable\").plot.bar(legend=False, figsize=(8, 4))"
   ]
  },
  {
   "cell_type": "markdown",
   "id": "f1ace1d4-a9ba-41d2-af19-f1ac18a58ed9",
   "metadata": {},
   "source": [
    "### PCB-138\n",
    "\n",
    "#### Identify outliers"
   ]
  },
  {
   "cell_type": "code",
   "execution_count": null,
   "id": "4746a2d8-0a86-492b-8235-5babe42c7c46",
   "metadata": {},
   "outputs": [],
   "source": [
    "formula = \"np.sqrt(CB_138) ~ Tonnes  + Age + how_many_km + years_smoked + years_worked +\\\n",
    "sum_RPE_use + C(bool_enclosed_process) + sum_local_exhaust +  C(industrial_plants_in_surroundings) + C(sub_category) + C(Sex) + C(home_location)\"\n",
    "\n",
    "model = smf.glm(\n",
    "    formula=formula,\n",
    "    data=df_GLM,\n",
    "    family=sm.families.Gamma(link=sm.families.links.log()),\n",
    ").fit()\n",
    "\n",
    "\"\"\"\n",
    "The Cook's distance is considered high if it is greater than 0.5 and extreme if it is greater than 1\n",
    "\"\"\"\n",
    "\n",
    "plt.scatter(range(df_GLM.shape[0]), model.get_influence().cooks_distance[0])\n",
    "\n",
    "print(np.max(model.get_influence().cooks_distance[0]))\n",
    "print(np.argmax(model.get_influence().cooks_distance[0]))"
   ]
  },
  {
   "cell_type": "markdown",
   "id": "398941d1-1fe0-40bf-989e-1c2b153c22f2",
   "metadata": {},
   "source": [
    "#### Build GLM model"
   ]
  },
  {
   "cell_type": "code",
   "execution_count": null,
   "id": "6fef8601-fba3-4a72-aa0c-a140633ac519",
   "metadata": {},
   "outputs": [],
   "source": [
    "formula = \"np.sqrt(CB_138) ~ Tonnes  + Age +  how_many_km + years_smoked + years_worked +\\\n",
    "sum_RPE_use + C(bool_enclosed_process, Treatment(reference=0)) + sum_local_exhaust +  C(industrial_plants_in_surroundings, Treatment(reference=False)) + C(sub_category, Treatment(reference='outwith_CTR'))\\\n",
    "+ C(Sex, Treatment(reference='Female')) + C(home_location, Treatment(reference='Rural')) \"\n",
    "\n",
    "df_GLM_outlier_removed = df_GLM.drop(index=secret.SECRET.exclude_from_model)\n",
    "\n",
    "model_PCB138 = smf.glm(\n",
    "    formula=formula,\n",
    "    data=df_GLM_outlier_removed,\n",
    "    family=sm.families.Gamma(link=sm.families.links.log()),\n",
    ").fit()\n",
    "model_PCB138.summary()"
   ]
  },
  {
   "cell_type": "code",
   "execution_count": null,
   "id": "18c4a84d-2423-4fa3-9147-6c3b7c2fe4f0",
   "metadata": {},
   "outputs": [],
   "source": [
    "common_functions.plot_diagnostics(\n",
    "    df=df_GLM_outlier_removed,\n",
    "    model=model_PCB138,\n",
    "    dependent_variable=\"CB_138\",\n",
    "    save_to_disk=True,\n",
    ")"
   ]
  },
  {
   "cell_type": "markdown",
   "id": "8b7ae5b3-9146-4988-a2b6-f39f89ab407f",
   "metadata": {},
   "source": [
    "### PCB-153\n",
    "#### Identify outliers"
   ]
  },
  {
   "cell_type": "code",
   "execution_count": null,
   "id": "95949d3f-daa4-4e2a-beef-9ccaf08f7485",
   "metadata": {},
   "outputs": [],
   "source": [
    "formula = \"np.sqrt(CB_153) ~ Tonnes  + Age + how_many_km + years_smoked + years_worked +\\\n",
    "sum_RPE_use + C(bool_enclosed_process) + sum_local_exhaust +  C(industrial_plants_in_surroundings) + C(sub_category) + C(Sex) + C(home_location)\"\n",
    "\n",
    "model = smf.glm(\n",
    "    formula=formula,\n",
    "    data=df_GLM,\n",
    "    family=sm.families.Gamma(link=sm.families.links.log()),\n",
    ").fit()\n",
    "\n",
    "plt.scatter(range(df_GLM.shape[0]), model.get_influence().cooks_distance[0])\n",
    "\n",
    "print(np.max(model.get_influence().cooks_distance[0]))\n",
    "print(np.argmax(model.get_influence().cooks_distance[0]))"
   ]
  },
  {
   "cell_type": "markdown",
   "id": "91be491b-1de8-4938-a0dd-01fe88a89806",
   "metadata": {},
   "source": [
    "#### Build GLM model"
   ]
  },
  {
   "cell_type": "code",
   "execution_count": null,
   "id": "4bdee3a1-9b8d-4bb0-b760-25834e942f5a",
   "metadata": {},
   "outputs": [],
   "source": [
    "formula = \"np.sqrt(CB_153) ~ Tonnes  + Age +  how_many_km + years_smoked + years_worked +\\\n",
    "sum_RPE_use + C(bool_enclosed_process, Treatment(reference=0)) + sum_local_exhaust +  C(industrial_plants_in_surroundings, Treatment(reference=False)) + C(sub_category, Treatment(reference='outwith_CTR'))\\\n",
    "+ C(Sex, Treatment(reference='Female')) + C(home_location, Treatment(reference='Rural')) \"\n",
    "\n",
    "df_GLM_outlier_removed = df_GLM.drop(index=secret.SECRET.exclude_from_model)\n",
    "\n",
    "model_PCB153 = smf.glm(\n",
    "    formula=formula,\n",
    "    data=df_GLM_outlier_removed,\n",
    "    family=sm.families.Gamma(link=sm.families.links.log()),\n",
    ").fit()\n",
    "model_PCB153.summary()"
   ]
  },
  {
   "cell_type": "code",
   "execution_count": null,
   "id": "c8ec31b9-3a46-4e20-952e-738bbe67109a",
   "metadata": {},
   "outputs": [],
   "source": [
    "common_functions.plot_diagnostics(\n",
    "    df=df_GLM_outlier_removed,\n",
    "    model=model_PCB153,\n",
    "    dependent_variable=\"CB_153\",\n",
    "    save_to_disk=True,\n",
    ")"
   ]
  },
  {
   "cell_type": "markdown",
   "id": "e4b1d90a-085a-4bfe-bc85-72a235ea0add",
   "metadata": {},
   "source": [
    "### PCB-180\n",
    "#### Identify outliers"
   ]
  },
  {
   "cell_type": "code",
   "execution_count": null,
   "id": "1e6bacf6-7db2-4c65-94bd-032716656ab7",
   "metadata": {},
   "outputs": [],
   "source": [
    "formula = \"np.sqrt(CB_180) ~ Tonnes  + Age + how_many_km + years_smoked + years_worked +\\\n",
    "sum_RPE_use + C(bool_enclosed_process) + sum_local_exhaust +  C(industrial_plants_in_surroundings) + C(sub_category) + C(Sex) + C(home_location)\"\n",
    "\n",
    "model = smf.glm(\n",
    "    formula=formula,\n",
    "    data=df_GLM,\n",
    "    family=sm.families.Gamma(link=sm.families.links.log()),\n",
    ").fit()\n",
    "\n",
    "plt.scatter(range(df_GLM.shape[0]), model.get_influence().cooks_distance[0])\n",
    "\n",
    "print(np.max(model.get_influence().cooks_distance[0]))\n",
    "print(np.argmax(model.get_influence().cooks_distance[0]))"
   ]
  },
  {
   "cell_type": "markdown",
   "id": "16b0920c-61d3-460e-9d89-c883c7586951",
   "metadata": {},
   "source": [
    "#### Build GLM model"
   ]
  },
  {
   "cell_type": "code",
   "execution_count": null,
   "id": "8ef19882-50b6-435b-95fc-84aa786830f0",
   "metadata": {},
   "outputs": [],
   "source": [
    "formula = \"np.sqrt(CB_180) ~ Tonnes  + Age +  how_many_km + years_smoked + years_worked +\\\n",
    "sum_RPE_use + C(bool_enclosed_process, Treatment(reference=0)) + sum_local_exhaust +  C(industrial_plants_in_surroundings, Treatment(reference=False)) + C(sub_category, Treatment(reference='outwith_CTR'))\\\n",
    "+ C(Sex, Treatment(reference='Female')) + C(home_location, Treatment(reference='Rural')) \"\n",
    "\n",
    "df_GLM_outlier_removed = df_GLM.drop(index=secret.SECRET.exclude_from_model)\n",
    "\n",
    "model_PCB180 = smf.glm(\n",
    "    formula=formula,\n",
    "    data=df_GLM_outlier_removed,\n",
    "    family=sm.families.Gamma(link=sm.families.links.log()),\n",
    ").fit()\n",
    "model_PCB180.summary()"
   ]
  },
  {
   "cell_type": "code",
   "execution_count": null,
   "id": "6880cc6c-d90b-47fc-8ca8-9f52b56bb583",
   "metadata": {},
   "outputs": [],
   "source": [
    "common_functions.plot_diagnostics(\n",
    "    df=df_GLM_outlier_removed,\n",
    "    model=model_PCB180,\n",
    "    dependent_variable=\"CB_180\",\n",
    "    save_to_disk=True,\n",
    ")"
   ]
  },
  {
   "cell_type": "code",
   "execution_count": null,
   "id": "f20e48e0-2cc6-4ac2-ab60-9afc1581a4ba",
   "metadata": {},
   "outputs": [],
   "source": [
    "fig, axs = plt.subplots(1, 3, figsize=(8, 4), sharey=True, sharex=True)\n",
    "models = {\"model1\": model_PCB138, \"model2\": model_PCB153, \"model3\": model_PCB180}\n",
    "for t, (k, u) in zip(range(0, 3), models.items()):\n",
    "    temp = (\n",
    "        u.summary2()\n",
    "        .tables[1]\n",
    "        .iloc[1:, :]\n",
    "        .rename(\n",
    "            index={\n",
    "                \"Sum rpe use\": \"Sum RPE use\",\n",
    "                \"C(bool_enclosed_process, Treatment(reference=0))[T.1.0]\": \"E-waste processing involves work in enclosed environments?\",\n",
    "                \"C(industrial_plants_in_surroundings, Treatment(reference=False))[T.True]\": \"Industrial plants nearby home?\",\n",
    "                \"C(sub_category, Treatment(reference='outwith_CTR'))[T.Batteries]\": \"Subcategory : Batteries\",\n",
    "                \"C(sub_category, Treatment(reference='outwith_CTR'))[T.Brown goods]\": \"Subcategory : Brown goods\",\n",
    "                \"C(sub_category, Treatment(reference='outwith_CTR'))[T.Metals and plastics]\": \"Subcategory : Metals and plastics\",\n",
    "                \"C(sub_category, Treatment(reference='outwith_CTR'))[T.Miscellaneous]\": \"Subcategory : Miscellaneous\",\n",
    "                \"C(sub_category, Treatment(reference='outwith_CTR'))[T.White goods]\": \"Subcategory : White goods\",\n",
    "                \"C(Sex, Treatment(reference='Female'))[T.Male]\": \"Sex : Male\",\n",
    "                \"C(sub_category, Treatment(reference='outwith_CTR'))[T.within_CTR]\": \"Subcategory : Within CTR\",\n",
    "                \"C(home_location, Treatment(reference='Rural'))[T.Urban]\": \"Home dwelling : Urban\",\n",
    "                \"Tonnes\": \"Amounts of e-waste processed\",\n",
    "                \"how_many_km\": \"Distance of nearest industrial plant from home\",\n",
    "            }\n",
    "        )\n",
    "        .rename(index=lambda x: x.replace(\"_\", \" \").title())\n",
    "        .rename(\n",
    "            index={\n",
    "                \"Sum Rpe Use\": \"Sum RPE Use\",\n",
    "                \"Subcategory : Within Ctr\": \"Subcategory : Within CTR\",\n",
    "            }\n",
    "        )\n",
    "        .sort_index()\n",
    "    )\n",
    "    (\n",
    "        temp.pipe(\n",
    "            lambda df: axs[t].errorbar(\n",
    "                y=df.index,\n",
    "                x=df[\"Coef.\"],\n",
    "                xerr=df[\"Std.Err.\"]\n",
    "                * 1.959964,  # std error is converted to CI https://stats.stackexchange.com/questions/512789/converting-between-confidence-interval-and-standard-error\n",
    "                ls=\"None\",\n",
    "                capsize=3,\n",
    "                markersize=2,\n",
    "                ecolor=\"black\",\n",
    "                fmt=\"o\",\n",
    "                c=\"black\",\n",
    "            )\n",
    "        )\n",
    "    )\n",
    "\n",
    "for ax in axs:\n",
    "    ax.axvline(x=0, linestyle=\"dashed\", color=\"red\")\n",
    "    # ax.set_xscale(\"log\")\n",
    "\n",
    "axs[0].set_title(\"CB 138\", fontweight=\"bold\", fontsize=12)\n",
    "axs[1].set_title(\"CB 153\", fontweight=\"bold\", fontsize=12)\n",
    "axs[2].set_title(\"CB 180\", fontweight=\"bold\", fontsize=12)\n",
    "\n",
    "plt.tight_layout()\n",
    "\n",
    "plt.savefig(utils.Configuration.PLOTS.joinpath(\"img3.png\"), dpi=600)"
   ]
  }
 ],
 "metadata": {
  "kernelspec": {
   "display_name": "Python 3 (ipykernel)",
   "language": "python",
   "name": "python3"
  },
  "language_info": {
   "codemirror_mode": {
    "name": "ipython",
    "version": 3
   },
   "file_extension": ".py",
   "mimetype": "text/x-python",
   "name": "python",
   "nbconvert_exporter": "python",
   "pygments_lexer": "ipython3",
   "version": "3.10.12"
  },
  "toc-autonumbering": true,
  "toc-showcode": false,
  "toc-showmarkdowntxt": false,
  "toc-showtags": false
 },
 "nbformat": 4,
 "nbformat_minor": 5
}
