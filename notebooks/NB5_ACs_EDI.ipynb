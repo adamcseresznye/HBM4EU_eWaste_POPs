{
 "cells": [
  {
   "cell_type": "markdown",
   "id": "8ae3ae3c-4a7b-4395-bc99-df902e6701d3",
   "metadata": {},
   "source": [
    "# Imports"
   ]
  },
  {
   "cell_type": "code",
   "execution_count": null,
   "id": "1fcbed05-cc9f-4bbc-9fad-f9cdb611dff8",
   "metadata": {
    "tags": []
   },
   "outputs": [],
   "source": [
    "import warnings\n",
    "\n",
    "warnings.simplefilter(action=\"ignore\", category=FutureWarning)\n",
    "\n",
    "from collections import defaultdict\n",
    "\n",
    "import common_functions\n",
    "import numpy as np\n",
    "import pandas as pd\n",
    "import utils\n",
    "from scipy import stats"
   ]
  },
  {
   "cell_type": "markdown",
   "id": "86120b68-5688-4eda-8c66-76afb253af15",
   "metadata": {},
   "source": [
    "# Aim of this notebook  \n",
    "* Calculate the Estimated Daily Intake values based on the wristband and dust measurements\n",
    "\n",
    "\n",
    "Based on the concentrations detailed, we estimate exposure levels through the ingestion of dust and wristband. The estimated daily intake (EDI) in milligrams per kilogram of body weight per day (mg/kg bw/day) was determined using a methodology based on the general approach described by McGrath et al., 2022. The EDI is calculated using the following formula:\n",
    "\n",
    "EDI = (Concentration × Ingestion × Fraction) / Body weight\n",
    "\n",
    "Here, \"concentration\" represents the concentrations of quantified compounds.\"Ingestion\" pertains to dust ingestion rates of 20 and 60 mg/day for adults and toddlers in the 50th percentile exposure scenario, and 50 and 100 mg/day for adults and toddlers in the 95th percentile exposure scenario, as specified by USEPA, 2017a.\"Fraction\" refers to the fraction of time individuals spend at the workplace (0.33, 8 hours of work divided by 24 hours), based on research by Klepeis et al., 2001, and Poma et al., 2020. \"Body weight\" is given in the serum dataframe, expressed in kg unit."
   ]
  },
  {
   "cell_type": "code",
   "execution_count": null,
   "id": "e8bb6c94-781a-4998-b360-5085317f9481",
   "metadata": {},
   "outputs": [],
   "source": [
    "DUST_DATA_PATH = utils.Configuration.INTERIM_DATA_PATH.joinpath(\"dust.parquet.gzip\")\n",
    "\n",
    "SERUM_DATA_PATH = utils.Configuration.INTERIM_DATA_PATH.joinpath(\n",
    "    \"HBM4EU_E-waste_template_V3_all_data_INTERIM.parquet.gzip\"\n",
    ")\n",
    "\n",
    "WRISTBAND_DATA_PATH = utils.Configuration.INTERIM_DATA_PATH.joinpath(\n",
    "    \"wristband.parquet.gzip\"\n",
    ")\n",
    "\n",
    "dust = pd.read_parquet(DUST_DATA_PATH).groupby(\"group\").mean()\n",
    "serum = pd.read_parquet(SERUM_DATA_PATH)\n",
    "wristband = pd.read_parquet(WRISTBAND_DATA_PATH)"
   ]
  },
  {
   "cell_type": "markdown",
   "id": "d962868b-1d29-41e0-afac-65e9e5c331ac",
   "metadata": {},
   "source": [
    "# Calculate Ba"
   ]
  },
  {
   "cell_type": "code",
   "execution_count": null,
   "id": "446bae1f-9822-47c3-9394-528d22f5b598",
   "metadata": {},
   "outputs": [],
   "source": [
    "# logKow values come from comptox.epa.gov:\n",
    "logkow = pd.Series(\n",
    "    {\n",
    "        \"PCB 28\": 5.62,\n",
    "        \"PCB 52\": 6.18,\n",
    "        \"PCB 101\": 6.10,\n",
    "        \"PCB 118\": 7.11,\n",
    "        \"PCB 138\": 7.34,\n",
    "        \"PCB 153\": 6.56,\n",
    "        \"PCB 180\": 7.72,\n",
    "        \"BDE 28\": 5.94,\n",
    "        \"BDE 47\": 6.81,\n",
    "        \"BDE 99\": 7.32,\n",
    "        \"BDE 100\": 7.24,\n",
    "        \"BDE 153\": 7.90,\n",
    "        \"BDE 154\": 7.82,\n",
    "        \"BDE 183\": 8.27,\n",
    "        \"BDE 209\": 7.74,\n",
    "    }\n",
    ")\n",
    "\n",
    "a = 0.2\n",
    "b = 0.8\n",
    "\n",
    "# Based on Christina Christia (2021):\n",
    "Ba = a + ((b - a) * (8 - logkow) / (8 - 5))\n",
    "Ba"
   ]
  },
  {
   "cell_type": "markdown",
   "id": "79017bf4-3489-4457-89b3-bc7971fea32b",
   "metadata": {},
   "source": [
    "## EDI\n",
    "### Based on the dust measurements\n",
    "#### 50th percentile\n",
    "\n",
    "To calculate the 50th percentile exposure scenario, we use dust ingestion rates of 20 mg/day. To get the unit of **mg/kg/day** we will use 0.02 g/day intake and divide the final values by 1000, since the original dust measurements are in µg/g dust."
   ]
  },
  {
   "cell_type": "code",
   "execution_count": null,
   "id": "2ca15815-e057-4de2-804b-6827c6c2cd6a",
   "metadata": {},
   "outputs": [],
   "source": [
    "# EDI values per compound in mg/kg/day\n",
    "dust_EDI_p50 = (\n",
    "    serum.query(\"main_category == 'Worker'\")[[\"companyID\", \"weight\"]]\n",
    "    .pipe(\n",
    "        lambda df: df.assign(\n",
    "            **{\n",
    "                col\n",
    "                + \"\": lambda df, col=col: df.companyID.map(\n",
    "                    dict(zip(dust.index, dust[col]))\n",
    "                )\n",
    "                for col in dust.columns\n",
    "            }\n",
    "        )\n",
    "    )\n",
    "    .pipe(\n",
    "        lambda df: df.assign(\n",
    "            **{\n",
    "                col + \"\": lambda df, col=col: (df[col] * 0.02 * (8 / 24)) / df[\"weight\"]\n",
    "                for col in df.loc[:, \"PCB 28\":\"BDE 209\"].columns\n",
    "            }\n",
    "        )\n",
    "    )\n",
    "    .loc[:, \"PCB 28\":]\n",
    "    .div(1000)\n",
    "    .mul(Ba)\n",
    ")\n",
    "dust_EDI_p50"
   ]
  },
  {
   "cell_type": "code",
   "execution_count": null,
   "id": "25dcd647-15cb-4817-96ef-76c7e2161fec",
   "metadata": {},
   "outputs": [],
   "source": [
    "# percentiles per compound in mg/kg/day\n",
    "(dust_EDI_p50.describe().transpose().loc[:, [\"count\", \"25%\", \"50%\", \"75%\"]])"
   ]
  },
  {
   "cell_type": "markdown",
   "id": "d307d397-4976-46e6-8756-dc4651bd9d97",
   "metadata": {},
   "source": [
    "#### 95th percentile\n",
    "To calculate the 95th percentile exposure scenario, we use dust ingestion rates of 60 mg/day, that is 0.06 g/day."
   ]
  },
  {
   "cell_type": "code",
   "execution_count": null,
   "id": "78157e7c-e298-4c5a-801f-921a69fb49c6",
   "metadata": {},
   "outputs": [],
   "source": [
    "dust_EDI_p95 = (\n",
    "    serum.query(\"main_category == 'Worker'\")[[\"companyID\", \"weight\"]]\n",
    "    .pipe(\n",
    "        lambda df: df.assign(\n",
    "            **{\n",
    "                col\n",
    "                + \"\": lambda df, col=col: df.companyID.map(\n",
    "                    dict(zip(dust.index, dust[col]))\n",
    "                )\n",
    "                for col in dust.columns\n",
    "            }\n",
    "        )\n",
    "    )\n",
    "    .pipe(\n",
    "        lambda df: df.assign(\n",
    "            **{\n",
    "                col + \"\": lambda df, col=col: (df[col] * 0.06 * (8 / 24)) / df[\"weight\"]\n",
    "                for col in df.loc[:, \"PCB 28\":\"BDE 209\"].columns\n",
    "            }\n",
    "        )\n",
    "    )\n",
    "    .loc[:, \"PCB 28\":]\n",
    "    .div(1000)\n",
    "    .mul(Ba)\n",
    ")\n",
    "dust_EDI_p95"
   ]
  },
  {
   "cell_type": "code",
   "execution_count": null,
   "id": "b9635b58-6ded-4e50-ac51-f4088eadebc4",
   "metadata": {},
   "outputs": [],
   "source": [
    "# percentiles per compound in mg/kg/day\n",
    "(\n",
    "    dust_EDI_p95.loc[:, \"PCB 28\":]\n",
    "    .describe()\n",
    "    .transpose()\n",
    "    .loc[:, [\"count\", \"25%\", \"50%\", \"75%\"]]\n",
    ").to_clipboard()"
   ]
  },
  {
   "cell_type": "markdown",
   "id": "20406333-087f-478b-b8d7-89a54964919c",
   "metadata": {},
   "source": [
    "# Sum EDI values for PCBs and PBDEs\n",
    "## PCBs"
   ]
  },
  {
   "cell_type": "code",
   "execution_count": null,
   "id": "7c3cd7b3-1428-41f1-8055-c366edf91f98",
   "metadata": {},
   "outputs": [],
   "source": [
    "# 50th percentile exposure scenario for sum PCBs in ng/kg/day\n",
    "dust_EDI_p50.median()[dust_EDI_p50.median().index.str.contains(\"PCB\")].sum() * 1000_000"
   ]
  },
  {
   "cell_type": "code",
   "execution_count": null,
   "id": "1a53e191-dd1c-4c76-b8b9-6dd09108c3fb",
   "metadata": {},
   "outputs": [],
   "source": [
    "# 95th percentile exposure scenario for sum PCBs in ng/kg/day\n",
    "dust_EDI_p95.median()[dust_EDI_p95.median().index.str.contains(\"PCB\")].sum() * 1000_000"
   ]
  },
  {
   "cell_type": "markdown",
   "id": "e6424d42-e16a-47bf-b2b3-9b020e8deb04",
   "metadata": {},
   "source": [
    "## PBDEs"
   ]
  },
  {
   "cell_type": "code",
   "execution_count": null,
   "id": "3e6571ad-d262-483d-81e5-3b753d7c2e75",
   "metadata": {},
   "outputs": [],
   "source": [
    "# 50th percentile exposure scenario for sum PBDEs in ng/kg/day\n",
    "dust_EDI_p50.median()[dust_EDI_p50.median().index.str.contains(\"BDE\")].sum() * 1000_000"
   ]
  },
  {
   "cell_type": "code",
   "execution_count": null,
   "id": "fac14cf0-603c-4e70-a6ce-a0bfc5f5d0b2",
   "metadata": {},
   "outputs": [],
   "source": [
    "# 95th percentile exposure scenario for sum PBDEs in ng/kg/day\n",
    "dust_EDI_p95.median()[dust_EDI_p95.median().index.str.contains(\"BDE\")].sum() * 1000_000"
   ]
  },
  {
   "cell_type": "markdown",
   "id": "58da9f0d-87a9-4325-b8d1-6e234a9d955d",
   "metadata": {},
   "source": [
    "### Based on the wristband measurements\n",
    "#### 50th percentile\n",
    "\n",
    "To get the unit of mg/kg/day we will use 0.02 g/day intake and divide the final values by 1000_000, since the original wristband measurements are in ng/g wristband."
   ]
  },
  {
   "cell_type": "code",
   "execution_count": null,
   "id": "440140e0-0a91-499b-88af-c02a413f1ae7",
   "metadata": {},
   "outputs": [],
   "source": [
    "wristband_EDI_p50 = (\n",
    "    serum[[\"weight\"]]\n",
    "    .merge(wristband, left_index=True, right_on=\"ID\")\n",
    "    .drop(columns=[\"ID\", \"main_category\", \"company_ID\"])\n",
    "    .pipe(\n",
    "        lambda df: df.assign(\n",
    "            **{\n",
    "                col\n",
    "                + \"_EDI_p50\": lambda df, col=col: (df[col] * 0.02 * (8 / 24))\n",
    "                / df[\"weight\"]\n",
    "                for col in df.loc[:, \"PCB 101\":\"BDE 209\"].columns\n",
    "            }\n",
    "        )\n",
    "    )\n",
    "    .loc[:, \"PCB 101_EDI_p50\":]\n",
    "    .div(1000_000)\n",
    "    .rename(columns=lambda x: x.replace(\"_EDI_p50\", \"\"))\n",
    "    .mul(Ba)\n",
    "    .describe()\n",
    "    .transpose()\n",
    "    .loc[:, [\"count\", \"25%\", \"50%\", \"75%\"]]\n",
    ")\n",
    "wristband_EDI_p50"
   ]
  },
  {
   "cell_type": "markdown",
   "id": "05cc8e92-6545-486b-b13e-431378d5bd25",
   "metadata": {},
   "source": [
    "#### 95th percentile\n",
    "\n",
    "To get the unit of mg/kg/day we will use 0.06 g/day intake and divide the final values by 1000_000, since the original wristband measurements are in ng/g wristband."
   ]
  },
  {
   "cell_type": "code",
   "execution_count": null,
   "id": "f18e03ba-0d0a-4e1a-add1-def6315188dd",
   "metadata": {},
   "outputs": [],
   "source": [
    "wristband_EDI_p95 = (\n",
    "    serum[[\"weight\"]]\n",
    "    .merge(wristband, left_index=True, right_on=\"ID\")\n",
    "    .drop(columns=[\"ID\", \"main_category\", \"company_ID\"])\n",
    "    .pipe(\n",
    "        lambda df: df.assign(\n",
    "            **{\n",
    "                col\n",
    "                + \"_EDI_p50\": lambda df, col=col: (df[col] * 0.06 * (8 / 24))\n",
    "                / df[\"weight\"]\n",
    "                for col in df.loc[:, \"PCB 101\":\"BDE 209\"].columns\n",
    "            }\n",
    "        )\n",
    "    )\n",
    "    .loc[:, \"PCB 101_EDI_p50\":]\n",
    "    .div(1000_000)\n",
    "    .rename(columns=lambda x: x.replace(\"_EDI_p50\", \"\"))\n",
    "    .mul(Ba)\n",
    "    .describe()\n",
    "    .transpose()\n",
    "    .loc[:, [\"count\", \"25%\", \"50%\", \"75%\"]]\n",
    ")\n",
    "wristband_EDI_p95"
   ]
  }
 ],
 "metadata": {
  "kernelspec": {
   "display_name": "Python 3 (ipykernel)",
   "language": "python",
   "name": "python3"
  },
  "language_info": {
   "codemirror_mode": {
    "name": "ipython",
    "version": 3
   },
   "file_extension": ".py",
   "mimetype": "text/x-python",
   "name": "python",
   "nbconvert_exporter": "python",
   "pygments_lexer": "ipython3",
   "version": "3.10.12"
  },
  "toc-autonumbering": true,
  "toc-showcode": false,
  "toc-showmarkdowntxt": false,
  "toc-showtags": false
 },
 "nbformat": 4,
 "nbformat_minor": 5
}
