{
 "cells": [
  {
   "cell_type": "markdown",
   "id": "8ae3ae3c-4a7b-4395-bc99-df902e6701d3",
   "metadata": {},
   "source": [
    "# Imports"
   ]
  },
  {
   "cell_type": "code",
   "execution_count": null,
   "id": "1fcbed05-cc9f-4bbc-9fad-f9cdb611dff8",
   "metadata": {
    "tags": []
   },
   "outputs": [],
   "source": [
    "import warnings\n",
    "\n",
    "warnings.simplefilter(action=\"ignore\", category=FutureWarning)\n",
    "\n",
    "from collections import defaultdict\n",
    "\n",
    "import common_functions\n",
    "import numpy as np\n",
    "import pandas as pd\n",
    "import utils\n",
    "from scipy import stats"
   ]
  },
  {
   "cell_type": "markdown",
   "id": "86120b68-5688-4eda-8c66-76afb253af15",
   "metadata": {},
   "source": [
    "# Aim of this notebook  \n",
    "* Calculate the Estimated Daily Intake values based on the wristband and dust measurements\n",
    "\n",
    "\n",
    "Based on the concentrations detailed, we estimate exposure levels through the ingestion of dust and wristband. The estimated daily intake (EDI) in milligrams per kilogram of body weight per day (mg/kg bw/day) was determined using a methodology based on the general approach described by McGrath et al., 2022. The EDI is calculated using the following formula:\n",
    "\n",
    "EDI = (Concentration × Ingestion × Fraction) / Body weight\n",
    "\n",
    "Here, \"concentration\" represents the concentrations of quantified compounds.\"Ingestion\" pertains to dust ingestion rates of 20 and 60 mg/day for adults and toddlers in the 50th percentile exposure scenario, and 50 and 100 mg/day for adults and toddlers in the 95th percentile exposure scenario, as specified by USEPA, 2017a.\"Fraction\" refers to the fraction of time individuals spend at the workplace (0.33, 8 hours of work divided by 24 hours), based on research by Klepeis et al., 2001, and Poma et al., 2020. \"Body weight\" is given in the serum dataframe, expressed in kg unit.\n",
    "\n",
    "It's worth noting that we assumed 100% bioaccessibility for each compound, providing a conservative estimate of internal exposure, as per Christia et al., 2021."
   ]
  },
  {
   "cell_type": "code",
   "execution_count": null,
   "id": "e8bb6c94-781a-4998-b360-5085317f9481",
   "metadata": {},
   "outputs": [],
   "source": [
    "DUST_DATA_PATH = utils.Configuration.INTERIM_DATA_PATH.joinpath(\"dust.parquet.gzip\")\n",
    "\n",
    "SERUM_DATA_PATH = utils.Configuration.INTERIM_DATA_PATH.joinpath(\n",
    "    \"HBM4EU_E-waste_template_V3_all_data_INTERIM.parquet.gzip\"\n",
    ")\n",
    "\n",
    "WRISTBAND_DATA_PATH = utils.Configuration.INTERIM_DATA_PATH.joinpath(\n",
    "    \"wristband.parquet.gzip\"\n",
    ")\n",
    "\n",
    "dust = pd.read_parquet(DUST_DATA_PATH).groupby(\"group\").mean()\n",
    "serum = pd.read_parquet(SERUM_DATA_PATH)\n",
    "wristband = pd.read_parquet(WRISTBAND_DATA_PATH)"
   ]
  },
  {
   "cell_type": "markdown",
   "id": "79017bf4-3489-4457-89b3-bc7971fea32b",
   "metadata": {},
   "source": [
    "## EDI\n",
    "### Based on the dust measurements\n",
    "#### 50th percentile\n",
    "\n",
    "To calculate the 50th percentile exposure scenario, we use dust ingestion rates of 20 mg/day. To get the unit of **mg/kg/day** we will use 0.02 g/day intake and divide the final values by 1000, since the original dust measurements are in µg/g dust."
   ]
  },
  {
   "cell_type": "code",
   "execution_count": null,
   "id": "2ca15815-e057-4de2-804b-6827c6c2cd6a",
   "metadata": {},
   "outputs": [],
   "source": [
    "dust_EDI_p50 = (\n",
    "    serum.query(\"main_category == 'Worker'\")[[\"companyID\", \"weight\"]]\n",
    "    .pipe(\n",
    "        lambda df: df.assign(\n",
    "            **{\n",
    "                col\n",
    "                + \"_dust\": lambda df, col=col: df.companyID.map(\n",
    "                    dict(zip(dust.index, dust[col]))\n",
    "                )\n",
    "                for col in dust.columns\n",
    "            }\n",
    "        )\n",
    "    )\n",
    "    .pipe(\n",
    "        lambda df: df.assign(\n",
    "            **{\n",
    "                col\n",
    "                + \"_EDI_p50\": lambda df, col=col: (df[col] * 0.02 * (8 / 24))\n",
    "                / df[\"weight\"]\n",
    "                for col in df.loc[:, \"PCB 28_dust\":\"BDE 209_dust\"].columns\n",
    "            }\n",
    "        )\n",
    "    )\n",
    "    .loc[:, \"PCB 28_dust_EDI_p50\":]\n",
    ")\n",
    "\n",
    "# mean EDI values per compound in mg/kg/day\n",
    "dust_EDI_p50.div(1000).mean()"
   ]
  },
  {
   "cell_type": "code",
   "execution_count": null,
   "id": "25dcd647-15cb-4817-96ef-76c7e2161fec",
   "metadata": {},
   "outputs": [],
   "source": [
    "# percentiles per compound in mg/kg/day\n",
    "(dust_EDI_p50.div(1000).describe().transpose().loc[:, [\"count\", \"25%\", \"50%\", \"75%\"]])"
   ]
  },
  {
   "cell_type": "markdown",
   "id": "d307d397-4976-46e6-8756-dc4651bd9d97",
   "metadata": {},
   "source": [
    "#### 95th percentile\n",
    "To calculate the 95th percentile exposure scenario, we use dust ingestion rates of 60 mg/day, that is 0.06 g/day."
   ]
  },
  {
   "cell_type": "code",
   "execution_count": null,
   "id": "d8398f54-e67a-4fdd-aa4c-2af9eb28e645",
   "metadata": {},
   "outputs": [],
   "source": [
    "dust_EDI_p95 = (\n",
    "    serum.query(\"main_category == 'Worker'\")[[\"companyID\", \"weight\"]]\n",
    "    .pipe(\n",
    "        lambda df: df.assign(\n",
    "            **{\n",
    "                col\n",
    "                + \"_dust\": lambda df, col=col: df.companyID.map(\n",
    "                    dict(zip(dust.index, dust[col]))\n",
    "                )\n",
    "                for col in dust.columns\n",
    "            }\n",
    "        )\n",
    "    )\n",
    "    .pipe(\n",
    "        lambda df: df.assign(\n",
    "            **{\n",
    "                col\n",
    "                + \"_EDI_p95\": lambda df, col=col: (df[col] * 0.06 * (8 / 24))\n",
    "                / df[\"weight\"]\n",
    "                for col in df.loc[:, \"PCB 28_dust\":\"BDE 209_dust\"].columns\n",
    "            }\n",
    "        )\n",
    "    )\n",
    "    .loc[:, \"PCB 28_dust_EDI_p95\":]\n",
    ")\n",
    "\n",
    "# mean EDI values per compound in mg/kg/day\n",
    "dust_EDI_p95.div(1000).mean()"
   ]
  },
  {
   "cell_type": "code",
   "execution_count": null,
   "id": "b9635b58-6ded-4e50-ac51-f4088eadebc4",
   "metadata": {},
   "outputs": [],
   "source": [
    "# percentiles per compound in mg/kg/day\n",
    "(\n",
    "    dust_EDI_p95.loc[:, \"PCB 28_dust_EDI_p95\":]\n",
    "    .div(1000)\n",
    "    .describe()\n",
    "    .transpose()\n",
    "    .loc[:, [\"count\", \"25%\", \"50%\", \"75%\"]]\n",
    ")"
   ]
  },
  {
   "cell_type": "markdown",
   "id": "58da9f0d-87a9-4325-b8d1-6e234a9d955d",
   "metadata": {},
   "source": [
    "### Based on the wristband measurements\n",
    "#### 50th percentile\n",
    "\n",
    "To get the unit of mg/kg/day we will use 0.02 g/day intake and divide the final values by 1000_000, since the original wristband measurements are in ng/g wristband."
   ]
  },
  {
   "cell_type": "code",
   "execution_count": null,
   "id": "440140e0-0a91-499b-88af-c02a413f1ae7",
   "metadata": {},
   "outputs": [],
   "source": [
    "wristband_EDI_p50 = (\n",
    "    serum[[\"weight\"]]\n",
    "    .merge(wristband, left_index=True, right_on=\"ID\")\n",
    "    .drop(columns=[\"ID\", \"main_category\", \"company_ID\"])\n",
    "    .pipe(\n",
    "        lambda df: df.assign(\n",
    "            **{\n",
    "                col\n",
    "                + \"_EDI_p50\": lambda df, col=col: (df[col] * 0.02 * (8 / 24))\n",
    "                / df[\"weight\"]\n",
    "                for col in df.loc[:, \"PCB 101\":\"BDE 209\"].columns\n",
    "            }\n",
    "        )\n",
    "    )\n",
    "    .loc[:, \"PCB 101_EDI_p50\":]\n",
    "    .div(1000_000)\n",
    "    .describe()\n",
    "    .transpose()\n",
    "    .loc[:, [\"count\", \"25%\", \"50%\", \"75%\"]]\n",
    ")\n",
    "wristband_EDI_p50"
   ]
  },
  {
   "cell_type": "markdown",
   "id": "05cc8e92-6545-486b-b13e-431378d5bd25",
   "metadata": {},
   "source": [
    "#### 95th percentile\n",
    "\n",
    "To get the unit of mg/kg/day we will use 0.06 g/day intake and divide the final values by 1000_000, since the original wristband measurements are in ng/g wristband."
   ]
  },
  {
   "cell_type": "code",
   "execution_count": null,
   "id": "f7619b78-f6ff-4404-86ee-19bb5f132a20",
   "metadata": {},
   "outputs": [],
   "source": [
    "wristband_EDI_p95 = (\n",
    "    serum[[\"weight\"]]\n",
    "    .merge(wristband, left_index=True, right_on=\"ID\")\n",
    "    .drop(columns=[\"ID\", \"main_category\", \"company_ID\"])\n",
    "    .pipe(\n",
    "        lambda df: df.assign(\n",
    "            **{\n",
    "                col\n",
    "                + \"_EDI_p95\": lambda df, col=col: (df[col] * 0.06 * (8 / 24))\n",
    "                / df[\"weight\"]\n",
    "                for col in df.loc[:, \"PCB 101\":\"BDE 209\"].columns\n",
    "            }\n",
    "        )\n",
    "    )\n",
    "    .loc[:, \"PCB 101_EDI_p95\":]\n",
    "    .div(1000_000)\n",
    "    .describe()\n",
    "    .transpose()\n",
    "    .loc[:, [\"count\", \"25%\", \"50%\", \"75%\"]]\n",
    ")\n",
    "wristband_EDI_p95"
   ]
  }
 ],
 "metadata": {
  "kernelspec": {
   "display_name": "Python 3 (ipykernel)",
   "language": "python",
   "name": "python3"
  },
  "language_info": {
   "codemirror_mode": {
    "name": "ipython",
    "version": 3
   },
   "file_extension": ".py",
   "mimetype": "text/x-python",
   "name": "python",
   "nbconvert_exporter": "python",
   "pygments_lexer": "ipython3",
   "version": "3.10.12"
  },
  "toc-autonumbering": true,
  "toc-showcode": false,
  "toc-showmarkdowntxt": false,
  "toc-showtags": false
 },
 "nbformat": 4,
 "nbformat_minor": 5
}
