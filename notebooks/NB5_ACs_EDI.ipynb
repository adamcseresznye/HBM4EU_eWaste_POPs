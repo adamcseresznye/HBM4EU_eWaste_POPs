{
 "cells": [
  {
   "cell_type": "markdown",
   "id": "8ae3ae3c-4a7b-4395-bc99-df902e6701d3",
   "metadata": {},
   "source": [
    "# Imports"
   ]
  },
  {
   "cell_type": "code",
   "execution_count": 2,
   "id": "1fcbed05-cc9f-4bbc-9fad-f9cdb611dff8",
   "metadata": {
    "tags": []
   },
   "outputs": [],
   "source": [
    "import warnings\n",
    "\n",
    "warnings.simplefilter(action=\"ignore\", category=FutureWarning)\n",
    "\n",
    "from collections import defaultdict\n",
    "\n",
    "import common_functions\n",
    "import numpy as np\n",
    "import pandas as pd\n",
    "import utils\n",
    "from scipy import stats"
   ]
  },
  {
   "cell_type": "markdown",
   "id": "4fde7680-83a3-489f-a2ec-ebd0e6399ca2",
   "metadata": {},
   "source": [
    "# Aim of this notebook  \n",
    "* Calculate the Estimated Daily Intake values based on the wristband and dust measurements\n",
    "\n"
   ]
  },
  {
   "cell_type": "code",
   "execution_count": 5,
   "id": "e8bb6c94-781a-4998-b360-5085317f9481",
   "metadata": {
    "scrolled": true
   },
   "outputs": [],
   "source": [
    "DUST_DATA_PATH = utils.Configuration.INTERIM_DATA_PATH.joinpath(\"dust.parquet.gzip\")\n",
    "\n",
    "SERUM_DATA_PATH = utils.Configuration.INTERIM_DATA_PATH.joinpath(\n",
    "    \"HBM4EU_E-waste_template_V3_all_data_INTERIM.parquet.gzip\"\n",
    ")\n",
    "\n",
    "WRISTBAND_DATA_PATH = utils.Configuration.INTERIM_DATA_PATH.joinpath(\n",
    "    \"wristband.parquet.gzip\"\n",
    ")\n",
    "\n",
    "dust=pd.read_parquet(DUST_DATA_PATH)\n",
    "serum=pd.read_parquet(SERUM_DATA_PATH)\n",
    "wristband=pd.read_parquet(WRISTBAND_DATA_PATH)"
   ]
  },
  {
   "cell_type": "code",
   "execution_count": null,
   "id": "3b7d32e4-5b67-47a2-801a-70a3737d84dc",
   "metadata": {},
   "outputs": [],
   "source": []
  }
 ],
 "metadata": {
  "kernelspec": {
   "display_name": "Python 3 (ipykernel)",
   "language": "python",
   "name": "python3"
  },
  "language_info": {
   "codemirror_mode": {
    "name": "ipython",
    "version": 3
   },
   "file_extension": ".py",
   "mimetype": "text/x-python",
   "name": "python",
   "nbconvert_exporter": "python",
   "pygments_lexer": "ipython3",
   "version": "3.10.12"
  },
  "toc-autonumbering": true,
  "toc-showcode": false,
  "toc-showmarkdowntxt": false,
  "toc-showtags": false
 },
 "nbformat": 4,
 "nbformat_minor": 5
}
