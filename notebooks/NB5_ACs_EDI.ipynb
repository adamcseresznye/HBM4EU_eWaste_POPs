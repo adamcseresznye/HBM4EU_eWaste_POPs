{
 "cells": [
  {
   "cell_type": "markdown",
   "id": "8ae3ae3c-4a7b-4395-bc99-df902e6701d3",
   "metadata": {},
   "source": [
    "# Imports"
   ]
  },
  {
   "cell_type": "code",
   "execution_count": null,
   "id": "1fcbed05-cc9f-4bbc-9fad-f9cdb611dff8",
   "metadata": {
    "tags": []
   },
   "outputs": [],
   "source": [
    "import warnings\n",
    "\n",
    "warnings.simplefilter(action=\"ignore\", category=FutureWarning)\n",
    "\n",
    "from collections import defaultdict\n",
    "\n",
    "import numpy as np\n",
    "import pandas as pd\n",
    "from scipy import stats\n",
    "\n",
    "import common_functions\n",
    "import utils"
   ]
  },
  {
   "cell_type": "markdown",
   "id": "86120b68-5688-4eda-8c66-76afb253af15",
   "metadata": {},
   "source": [
    "# Aim of this notebook  \n",
    "* Calculate the Estimated Daily Intake values via dust ingestion and dermal absorption based on the wristband and dust measurements"
   ]
  },
  {
   "cell_type": "code",
   "execution_count": null,
   "id": "e8bb6c94-781a-4998-b360-5085317f9481",
   "metadata": {},
   "outputs": [],
   "source": [
    "DUST_DATA_PATH = utils.Configuration.INTERIM_DATA_PATH.joinpath(\"dust.parquet.gzip\")\n",
    "\n",
    "SERUM_DATA_PATH = utils.Configuration.INTERIM_DATA_PATH.joinpath(\n",
    "    \"HBM4EU_E-waste_template_V3_all_data_INTERIM.parquet.gzip\"\n",
    ")\n",
    "\n",
    "WRISTBAND_DATA_PATH = utils.Configuration.INTERIM_DATA_PATH.joinpath(\n",
    "    \"wristband.parquet.gzip\"\n",
    ")\n",
    "\n",
    "dust = pd.read_parquet(DUST_DATA_PATH).groupby(\"group\").mean()\n",
    "serum = pd.read_parquet(SERUM_DATA_PATH)\n",
    "wristband = pd.read_parquet(WRISTBAND_DATA_PATH)"
   ]
  },
  {
   "cell_type": "markdown",
   "id": "7fa77528-3c5c-4975-9d62-dd6b215fd5d3",
   "metadata": {},
   "source": [
    "# Calculate EDI via ingestion\n",
    "\n",
    "\n",
    "Based on the concentrations detailed, we estimate exposure levels through the ingestion of dust and wristband. The estimated daily intake (EDI) in milligrams per kilogram of body weight per day (mg/kg bw/day) was determined using a methodology based on the general approach described by McGrath et al., 2022. The EDI is calculated using the following formula:\n",
    "\n",
    "**Dust ingestion (ng kg-bw-1 day-1)** = (Concentration × Ingestion × Fraction x Ba) / Body weight\n",
    "* Concentration (ng/g) : Concentration of analyte in dust/wristband\n",
    "* Ingestion (g/day): dust ingestion rates of 0.02 g/day for adults in the 50th percentile exposure scenario, and 0.05 g/day for adults in the 95th percentile exposure scenario (USEPA, 2017a.).\n",
    "* Fraction :  fraction of time individuals spend at the workplace (0.33, 8 hours of work divided by 24 hours)\n",
    "* Ba : Theoretical bioavailability (calculated from logKow) (CompTox Chemicals Dashboard(Williams et al., 2017)\n",
    "* Body weight (kg): body weight of participant\n"
   ]
  },
  {
   "cell_type": "markdown",
   "id": "d962868b-1d29-41e0-afac-65e9e5c331ac",
   "metadata": {},
   "source": [
    "## Calculate Bioavailability (Ba)"
   ]
  },
  {
   "cell_type": "code",
   "execution_count": null,
   "id": "446bae1f-9822-47c3-9394-528d22f5b598",
   "metadata": {},
   "outputs": [],
   "source": [
    "# logKow values come from comptox.epa.gov:\n",
    "logkow = pd.Series(\n",
    "    {\n",
    "        \"PCB 28\": 5.62,\n",
    "        \"PCB 52\": 6.18,\n",
    "        \"PCB 101\": 6.10,\n",
    "        \"PCB 118\": 7.11,\n",
    "        \"PCB 138\": 7.34,\n",
    "        \"PCB 153\": 6.56,\n",
    "        \"PCB 180\": 7.72,\n",
    "        \"BDE 28\": 5.94,\n",
    "        \"BDE 47\": 6.81,\n",
    "        \"BDE 99\": 7.32,\n",
    "        \"BDE 100\": 7.24,\n",
    "        \"BDE 153\": 7.90,\n",
    "        \"BDE 154\": 7.82,\n",
    "        \"BDE 183\": 8.27,\n",
    "        \"BDE 209\": 7.74,\n",
    "    }\n",
    ")\n",
    "\n",
    "a = 0.2\n",
    "b = 0.8\n",
    "\n",
    "# Based on Christina Christia (2021):\n",
    "Ba = a + ((b - a) * (8 - logkow) / (8 - 5))\n",
    "Ba"
   ]
  },
  {
   "cell_type": "markdown",
   "id": "584b133c-00e9-40c2-8436-b7b47b71f3a7",
   "metadata": {},
   "source": [
    "## Dust\n",
    "\n",
    "To calculate the 50th percentile exposure scenario, we use dust ingestion rates of 20 mg/day. To get the unit of **mg/kg/day** we will use 0.02 g/day intake and divide the final values by 1000, since the original dust measurements are in µg/g dust."
   ]
  },
  {
   "cell_type": "code",
   "execution_count": null,
   "id": "8abc706a-cb0f-4f34-ad91-60b18e2c9d00",
   "metadata": {},
   "outputs": [],
   "source": [
    "def calculate_EDI_via_ingestion_dust(ingestion_rate):\n",
    "    \"\"\"\n",
    "    ingestion_rate: 0.02 g/day represents the 50th percentile exposure scenario for adults\n",
    "                    0.05 g/day represents the 95th percentile exposure scenario for adults\n",
    "    \"\"\"\n",
    "    return (\n",
    "        serum.query(\"main_category == 'Worker'\")[[\"companyID\", \"weight\"]]\n",
    "        .pipe(\n",
    "            lambda df: df.assign(\n",
    "                **{\n",
    "                    col\n",
    "                    + \"\": lambda df, col=col: df.companyID.map(\n",
    "                        dict(\n",
    "                            zip(dust.index, dust[col] * 1000)\n",
    "                        )  # multiplied by 1000 to convert µg/g dust to ng/g dust\n",
    "                    )\n",
    "                    for col in dust.columns\n",
    "                }\n",
    "            )\n",
    "        )\n",
    "        .pipe(\n",
    "            lambda df: df.assign(\n",
    "                **{\n",
    "                    col\n",
    "                    + \"\": lambda df, col=col: (df[col] * ingestion_rate * (8 / 24))\n",
    "                    / df[\"weight\"]\n",
    "                    for col in df.loc[:, \"PCB 28\":\"BDE 209\"].columns\n",
    "                }\n",
    "            )\n",
    "        )\n",
    "        .loc[:, \"PCB 28\":]\n",
    "        # .div(1000)\n",
    "        .mul(Ba)\n",
    "    )"
   ]
  },
  {
   "cell_type": "markdown",
   "id": "b63a19bb-ab7c-42d8-861f-6952e558344f",
   "metadata": {},
   "source": [
    "### 50th percentile\n"
   ]
  },
  {
   "cell_type": "code",
   "execution_count": null,
   "id": "3f623c48-adfd-478b-81a5-f3be2e6f5137",
   "metadata": {},
   "outputs": [],
   "source": [
    "# EDI values per compound in mg/kg/day\n",
    "\n",
    "dust_EDI_p50 = calculate_EDI_via_ingestion_dust(ingestion_rate=0.02)\n",
    "dust_EDI_p50"
   ]
  },
  {
   "cell_type": "code",
   "execution_count": null,
   "id": "25dcd647-15cb-4817-96ef-76c7e2161fec",
   "metadata": {},
   "outputs": [],
   "source": [
    "# percentiles per compound in mg/kg/day\n",
    "(dust_EDI_p50.describe().transpose().loc[:, [\"count\", \"25%\", \"50%\", \"75%\"]])"
   ]
  },
  {
   "cell_type": "markdown",
   "id": "d307d397-4976-46e6-8756-dc4651bd9d97",
   "metadata": {},
   "source": [
    "### 95th percentile\n",
    "To calculate the 95th percentile exposure scenario, we use dust ingestion rates of 60 mg/day, that is 0.06 g/day."
   ]
  },
  {
   "cell_type": "code",
   "execution_count": null,
   "id": "a107c780-df5b-4459-9a2a-4c5068342fa9",
   "metadata": {},
   "outputs": [],
   "source": [
    "# EDI values per compound in mg/kg/day\n",
    "\n",
    "dust_EDI_p95 = calculate_EDI_via_ingestion_dust(0.06)"
   ]
  },
  {
   "cell_type": "code",
   "execution_count": null,
   "id": "b9635b58-6ded-4e50-ac51-f4088eadebc4",
   "metadata": {},
   "outputs": [],
   "source": [
    "# percentiles per compound in mg/kg/day\n",
    "(\n",
    "    dust_EDI_p95.loc[:, \"PCB 28\":]\n",
    "    .describe()\n",
    "    .transpose()\n",
    "    .loc[:, [\"count\", \"25%\", \"50%\", \"75%\"]]\n",
    "    .to_clipboard()\n",
    ")"
   ]
  },
  {
   "cell_type": "markdown",
   "id": "20406333-087f-478b-b8d7-89a54964919c",
   "metadata": {},
   "source": [
    "### Sum EDI values for PCBs and PBDEs\n"
   ]
  },
  {
   "cell_type": "code",
   "execution_count": null,
   "id": "5b275e82-14ac-4608-9105-6a4b98666508",
   "metadata": {},
   "outputs": [],
   "source": [
    "for class_ in [\"PCB\", \"BDE\"]:\n",
    "    print(\n",
    "        f\"Median for 50th perentile exposure scenario {class_}: {dust_EDI_p50.filter(like=class_).sum(axis=1).median()}\"\n",
    "    )"
   ]
  },
  {
   "cell_type": "code",
   "execution_count": null,
   "id": "7f906c76-7e40-40da-8270-4b9bf035096a",
   "metadata": {},
   "outputs": [],
   "source": [
    "for class_ in [\"PCB\", \"BDE\"]:\n",
    "    print(\n",
    "        f\"Median for 95th perentile exposure scenario {class_}: {dust_EDI_p95.filter(like=class_).sum(axis=1).median()}\"\n",
    "    )"
   ]
  },
  {
   "cell_type": "markdown",
   "id": "58da9f0d-87a9-4325-b8d1-6e234a9d955d",
   "metadata": {
    "jp-MarkdownHeadingCollapsed": true
   },
   "source": [
    "## Based on the wristband measurements\n",
    "### 50th percentile\n",
    "\n",
    "To get the unit of mg/kg/day we will use 0.02 g/day intake and divide the final values by 1000_000, since the original wristband measurements are in ng/g wristband."
   ]
  },
  {
   "cell_type": "code",
   "execution_count": null,
   "id": "22163b9c-ee86-4ece-bf65-4bd662c82de7",
   "metadata": {},
   "outputs": [],
   "source": [
    "def calculate_EDI_via_ingestion_WB(ingestion_rate):\n",
    "    \"\"\"\n",
    "    ingestion_rate: 0.02 g/day represents the 50th percentile exposure scenario for adults\n",
    "                    0.05 g/day represents the 95th percentile exposure scenario for adults\n",
    "    \"\"\"\n",
    "    return (\n",
    "        serum[[\"weight\"]]\n",
    "        .merge(wristband, left_index=True, right_on=\"ID\")\n",
    "        .drop(columns=[\"ID\", \"main_category\", \"company_ID\"])\n",
    "        .pipe(\n",
    "            lambda df: df.assign(\n",
    "                **{\n",
    "                    col\n",
    "                    + \"_EDI_p50\": lambda df, col=col: (\n",
    "                        df[col] * ingestion_rate * (8 / 24)\n",
    "                    )\n",
    "                    / df[\"weight\"]\n",
    "                    for col in df.loc[:, \"PCB 101\":\"BDE 209\"].columns\n",
    "                }\n",
    "            )\n",
    "        )\n",
    "        .loc[:, \"PCB 101_EDI_p50\":]\n",
    "        .rename(columns=lambda x: x.replace(\"_EDI_p50\", \"\"))\n",
    "        .mul(Ba)\n",
    "    )"
   ]
  },
  {
   "cell_type": "code",
   "execution_count": null,
   "id": "271b6e0e-b7b6-455e-a530-a25af250cd58",
   "metadata": {},
   "outputs": [],
   "source": [
    "wristband_EDI_p50 = calculate_EDI_via_ingestion_WB(0.02)\n",
    "\n",
    "(wristband_EDI_p50.describe().transpose().loc[:, [\"count\", \"25%\", \"50%\", \"75%\"]])"
   ]
  },
  {
   "cell_type": "markdown",
   "id": "05cc8e92-6545-486b-b13e-431378d5bd25",
   "metadata": {},
   "source": [
    "### 95th percentile\n",
    "\n",
    "To get the unit of mg/kg/day we will use 0.06 g/day intake and divide the final values by 1000_000, since the original wristband measurements are in ng/g wristband."
   ]
  },
  {
   "cell_type": "code",
   "execution_count": null,
   "id": "f18e03ba-0d0a-4e1a-add1-def6315188dd",
   "metadata": {},
   "outputs": [],
   "source": [
    "wristband_EDI_p95 = calculate_EDI_via_ingestion_WB(0.06)\n",
    "wristband_EDI_p95"
   ]
  },
  {
   "cell_type": "markdown",
   "id": "6705a9f1-9fe4-4ecf-98fb-1bcf2a8a0470",
   "metadata": {},
   "source": [
    "# Calculate EDI via dermal intake\n",
    "\n",
    "Based on doi.org/10.1016/j.chemosphere.2009.02.068 and doi.org/10.1021/acs.est.3c06174: \n",
    "EDI(dermal) = C x BSA x SAS x AF x IEF / BW x 1000, where:  \n",
    "\n",
    "* C = concentration (ng/g dry wt)\n",
    "* BSA = body surface area (cm2/day) == 4615\n",
    "* SAS = soil adhered to skin (mg/cm2) == 0.096\n",
    "* AF = fraction of PBDE absorbed in the skin == 0.03 , fraction of PCB absorbed in the skin == 0.14 (DOI: 10.1006/rtph.2002.1539)\n",
    "* IEF = indoor exposure fraction (hours spent over a day in an indoor environment) == 0.34\n",
    "* BW = body weight (k g)\n"
   ]
  },
  {
   "cell_type": "markdown",
   "id": "01b6ed0a-6e1d-44ef-a711-c761340badd1",
   "metadata": {},
   "source": [
    "## Based on dust measurements"
   ]
  },
  {
   "cell_type": "code",
   "execution_count": null,
   "id": "5e195f0f-2156-4d29-a61b-0038d780dcca",
   "metadata": {},
   "outputs": [],
   "source": [
    "# doi.org/10.1016/j.envint.2019.04.056 :\n",
    "BSA = 2430\n",
    "SAS = 0.01\n",
    "PBDE_AF = 0.03\n",
    "PCB_AF = 0.14\n",
    "IEF = 8 / 24"
   ]
  },
  {
   "cell_type": "code",
   "execution_count": null,
   "id": "5711d37d-6843-4184-933d-0049c7d1b5e8",
   "metadata": {},
   "outputs": [],
   "source": [
    "def calculate_dust_dermal_exposure(AF, contaminant_class):\n",
    "    \"\"\"\n",
    "    Calculates the expected dermal exposure from dust.\n",
    "    Input values:\n",
    "    AF : float = fraction of analyte absorbed in the skin, it is 0.03 for PBDEs and 0.14 for PCBs\n",
    "    contaminant_class : str = analyte class to filter by, if PCBs contaminant_class == 'PCB' else 'BDE'\n",
    "    \"\"\"\n",
    "    return (\n",
    "        serum.query(\"main_category == 'Worker'\")[[\"companyID\", \"weight\"]]\n",
    "        .pipe(\n",
    "            lambda df: df.assign(\n",
    "                **{\n",
    "                    col\n",
    "                    + \"\": lambda df, col=col: df.companyID.map(\n",
    "                        dict(\n",
    "                            zip(dust.index, dust[col] * 1000)\n",
    "                        )  # we multiply here by 1000 because the original unit is µg/g and we need ng/g here\n",
    "                    )\n",
    "                    for col in dust.columns\n",
    "                }\n",
    "            )\n",
    "        )\n",
    "        .pipe(\n",
    "            lambda df: df.assign(\n",
    "                **{\n",
    "                    col\n",
    "                    + \"\": lambda df, col=col: (df[col] * BSA * SAS * AF * IEF)\n",
    "                    / (df[\"weight\"] * 1000)\n",
    "                    for col in df.columns[df.columns.str.contains(contaminant_class)]\n",
    "                }\n",
    "            )\n",
    "        )\n",
    "        .loc[:, lambda df: df.columns.str.contains(contaminant_class)]\n",
    "    )"
   ]
  },
  {
   "cell_type": "code",
   "execution_count": null,
   "id": "34eb9dfc-12c6-4270-bd83-95007b87f6b8",
   "metadata": {},
   "outputs": [],
   "source": [
    "dust_dermal_intake_PCB = calculate_dust_dermal_exposure(PCB_AF, \"PCB\")\n",
    "dust_dermal_intake_PCB.sum(axis=1).describe(percentiles=[0.5, 0.95])"
   ]
  },
  {
   "cell_type": "code",
   "execution_count": null,
   "id": "fa13fc9b-2614-4b17-b613-393f22c22d4f",
   "metadata": {},
   "outputs": [],
   "source": [
    "dust_dermal_intake_PBDE = calculate_dust_dermal_exposure(PBDE_AF, \"BDE\")\n",
    "dust_dermal_intake_PBDE.sum(axis=1).describe(percentiles=[0.5, 0.95])"
   ]
  },
  {
   "cell_type": "markdown",
   "id": "91d4fc59-8574-4be8-bb83-e847cdc8183f",
   "metadata": {},
   "source": [
    "# Calculate EDI based on doi.org/10.1016/j.envint.2019.04.056\n",
    "\n",
    "**Dermal absorption (pg kg-bw-1 day-1)** = Dust concentration (pg g-1) * BSA (cm2) * DAS (mg cm-2) * Fa (unitless) * exposure duration (day) / body weight (kg).  \n",
    "\n",
    "* BSA = Body surface area for only head and hand exposure (BSA)(US EPA, 2011), 2430 cm2 (male), 2030 cm2 (female)\n",
    "* Dust adhered to skin (DAS)(US EPA, 2011) 0.01 mg cm-2\n",
    "* Fractions of target compound absorbed by skin (Fa)(US EPA, 2011) BDE-47 : 0.0285, BDE-99 : 0.0196, BDE-183 : 0.0005, BDE-209 : Not Absorbed\n",
    "* Exposure duration\t8 hours or 0.33 day\n",
    "* Body weight (US EPA, 2011) : 73 kg (female), 85 kg (male)\n",
    "\n",
    "**Dust ingestion (pg kg-bw-1 day-1)** = Dust concentration (pg g-1) * dust ingestion rate (g day-1) * exposure duration (day) / body weight (kg).\n",
    "* Dust ingestion rate (US EPA, 2011) : 0.06 g day-1\n",
    "* Exposure duration\t8 hours or 0.33 day\n",
    "* Body weight (US EPA, 2011) : 73 kg (female), 85 kg (male)\n"
   ]
  }
 ],
 "metadata": {
  "kernelspec": {
   "display_name": "HBM4EU",
   "language": "python",
   "name": "hbm4eu"
  },
  "language_info": {
   "codemirror_mode": {
    "name": "ipython",
    "version": 3
   },
   "file_extension": ".py",
   "mimetype": "text/x-python",
   "name": "python",
   "nbconvert_exporter": "python",
   "pygments_lexer": "ipython3",
   "version": "3.10.12"
  },
  "toc-autonumbering": true,
  "toc-showcode": false,
  "toc-showmarkdowntxt": false,
  "toc-showtags": false
 },
 "nbformat": 4,
 "nbformat_minor": 5
}
