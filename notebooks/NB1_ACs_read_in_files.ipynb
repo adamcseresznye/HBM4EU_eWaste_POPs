{
 "cells": [
  {
   "cell_type": "markdown",
   "id": "8ae3ae3c-4a7b-4395-bc99-df902e6701d3",
   "metadata": {},
   "source": [
    "# Imports"
   ]
  },
  {
   "cell_type": "code",
   "execution_count": 1,
   "id": "e0863f5f-cd03-49c3-9939-10669498dbcf",
   "metadata": {},
   "outputs": [],
   "source": [
    "import warnings\n",
    "\n",
    "import common_functions\n",
    "import numpy as np\n",
    "import pandas as pd\n",
    "import utils"
   ]
  },
  {
   "cell_type": "markdown",
   "id": "d40a4861-5939-45aa-a9fe-ede948324aac",
   "metadata": {},
   "source": [
    "# Constructing the main dataframe"
   ]
  },
  {
   "cell_type": "markdown",
   "id": "220c6618-fb21-46fa-8663-9686e1ed0b47",
   "metadata": {},
   "source": [
    "## Reading in workers data from E-waste recycling sheet"
   ]
  },
  {
   "cell_type": "markdown",
   "id": "ba306161-8b7a-4b10-88dc-efeb0e0020bf",
   "metadata": {},
   "source": [
    "### Dealing RPE, PPE and such columns"
   ]
  },
  {
   "cell_type": "code",
   "execution_count": 2,
   "id": "27180ef2-4815-4dde-8bb1-0c4fb987adab",
   "metadata": {},
   "outputs": [],
   "source": [
    "RAW_FILE_LOCATION = utils.Configuration.RAW_DATA_PATH.joinpath(\n",
    "    \"HBM4EU_E-waste_template_V3_all_data_2022_11_23.xlsx\"\n",
    ")\n",
    "\n",
    "# Read the Excel file once\n",
    "with warnings.catch_warnings():\n",
    "    warnings.filterwarnings(\"ignore\", category=UserWarning)\n",
    "    raw_df = pd.read_excel(\n",
    "        RAW_FILE_LOCATION,\n",
    "        sheet_name=\"E-waste recycling\",\n",
    "        skiprows=4,\n",
    "        skipfooter=7,\n",
    "    )\n",
    "\n",
    "# Define a list of column prefixes to filter\n",
    "column_prefixes = [\n",
    "    \"Takes place at  the company site\",\n",
    "    \"Use of other PPE\",\n",
    "    \"Use of RPE\",\n",
    "    \"Enclosed process\",\n",
    "    \"Local exhaust ventilation\",\n",
    "    \"Job\",\n",
    "]\n",
    "\n",
    "# Create a dictionary to store the results\n",
    "result_dict = {}\n",
    "\n",
    "# Perform data transformation for each column prefix\n",
    "for prefix in column_prefixes:\n",
    "    filtered_data = raw_df.filter(like=prefix)\n",
    "    transformed_data = common_functions.transform_data(filtered_data)\n",
    "\n",
    "    if \"Job\" in prefix:\n",
    "        # Handle special case for 'Job' columns\n",
    "        transformed_data = (\n",
    "            transformed_data.loc[2:, :]\n",
    "            .reset_index(drop=True)\n",
    "            .replace({\"Yes\": 1, \"No\": 0, \"no\": 0})\n",
    "            .rename(columns=lambda x: x[:6].replace(\":\", \"\").replace(\" \", \"\"))\n",
    "            .rename(columns={\"Operat\": \"Job1\"})\n",
    "        )\n",
    "\n",
    "    result_dict[prefix] = transformed_data"
   ]
  },
  {
   "cell_type": "markdown",
   "id": "961169f4-bff6-419d-8923-0a2f0d6f06bf",
   "metadata": {},
   "source": [
    "### Determining the number of years worked"
   ]
  },
  {
   "cell_type": "code",
   "execution_count": 3,
   "id": "37400e37-de9c-416e-9076-163db22b0ac9",
   "metadata": {
    "scrolled": true
   },
   "outputs": [],
   "source": [
    "with warnings.catch_warnings():\n",
    "    warnings.filterwarnings(\"ignore\", category=UserWarning)\n",
    "    years_worked_workers = pd.read_excel(\n",
    "        RAW_FILE_LOCATION,\n",
    "        sheet_name=\"E-waste recycling\",\n",
    "        usecols=\"JK:KI\",\n",
    "        skiprows=5,\n",
    "        skipfooter=7,\n",
    "    )\n",
    "\n",
    "\n",
    "years_worked_workers = (\n",
    "    years_worked_workers.filter(like=\"Year\")\n",
    "    .pipe(lambda df_: common_functions.col_name_changer(df_, what=\".\", how=\"_\"))\n",
    "    .assign(years_worked=lambda df_: common_functions.count_years_worked(df_))\n",
    "    .loc[:, \"years_worked\"]\n",
    ")"
   ]
  },
  {
   "cell_type": "markdown",
   "id": "684386f9-fbc4-4f09-a559-bc8be80fd819",
   "metadata": {},
   "source": [
    "### Read in main workers dataframe and concat with RPE and years_worked"
   ]
  },
  {
   "cell_type": "code",
   "execution_count": 4,
   "id": "39278698-f8b0-4ad7-a056-82d4816de00e",
   "metadata": {},
   "outputs": [],
   "source": [
    "with warnings.catch_warnings():\n",
    "    warnings.filterwarnings(\"ignore\", category=UserWarning)\n",
    "    workers_raw = pd.read_excel(\n",
    "        RAW_FILE_LOCATION,\n",
    "        sheet_name=\"E-waste recycling\",\n",
    "        usecols=\"B, H, G, GA, GB, GC, GE, GG, GK, GR: GU, GV:HA\",\n",
    "        skiprows=5,\n",
    "        skipfooter=7,\n",
    "    )\n",
    "\n",
    "workers_raw = workers_raw.rename(\n",
    "    columns={\n",
    "        \"ID\": \"companyID\",\n",
    "        \"ID.1\": \"ID\",\n",
    "        \"Number.30\": \"height\",\n",
    "        \"Number.31\": \"weight\",\n",
    "        \"Hours\": \"shift_duration\",\n",
    "        \"Place.1\": \"home_location\",\n",
    "        \"Yes / No.83\": \"industrial_plants_in_surroundings\",\n",
    "        \"km\": \"how_many_km\",\n",
    "        \"Density\": \"vehicular_traffic_density\",\n",
    "        \"Yes / No.84\": \"cigarette_smoking\",\n",
    "        \"Number.33\": \"cigarettes_per_day\",\n",
    "        \"Duration\": \"years_smoked\",\n",
    "        \"Years.5\": \"former_smoker_years_ago_stopped\",\n",
    "        \"Per day\": \"former_smoker_cigatette_a_day\",\n",
    "        \"Duration.1\": \"former_smoker_for_how_many_years\",\n",
    "    }\n",
    ")\n",
    "\n",
    "workers_raw = pd.concat(\n",
    "    [pd.concat(result_dict, axis=\"columns\"), workers_raw], axis=\"columns\"\n",
    ")\n",
    "\n",
    "\n",
    "workers_raw = workers_raw.assign(\n",
    "    Category=lambda df_: df_.Category.str.replace(\n",
    "        r\"([0-9])\", \"\", regex=True\n",
    "    ).str.replace(\".\", \"\", regex=True),\n",
    "    Age=lambda df_: df_.Age.astype(int),\n",
    "    height=lambda df_: df_.height.astype(str).str.extract(r\"([0-9.]+)\").astype(float),\n",
    "    weight=lambda df_: df_.weight.astype(str).str.extract(r\"([0-9.]+)\").astype(float),\n",
    "    BMI=lambda df_: df_.weight.div((df_.height / 100) ** 2),\n",
    "    how_many_km=lambda df_: df_.how_many_km.replace(r\"-\", np.nan).astype(float),\n",
    ").assign(\n",
    "    how_many_km=lambda df_: df_.how_many_km.mask(df_.how_many_km > 10, np.nan),\n",
    "    industrial_plants_in_surroundings=lambda df_: df_.industrial_plants_in_surroundings.replace(\n",
    "        {\"Yes\": True, \"No\": False}\n",
    "    ).mask(\n",
    "        df_.how_many_km.isna(), df_.industrial_plants_in_surroundings == False\n",
    "    ),\n",
    ")"
   ]
  },
  {
   "cell_type": "markdown",
   "id": "ea114484-e723-449a-a9f5-cface80f344d",
   "metadata": {},
   "source": [
    "## Reading in controls data from E-waste recycling sheet"
   ]
  },
  {
   "cell_type": "code",
   "execution_count": 7,
   "id": "2941478a-f0a1-436d-9c4b-19d87ed98d48",
   "metadata": {},
   "outputs": [],
   "source": [
    "with warnings.catch_warnings():\n",
    "    warnings.filterwarnings(\"ignore\", category=UserWarning)\n",
    "    years_worked_controls = pd.read_excel(\n",
    "        RAW_FILE_LOCATION,\n",
    "        sheet_name=\"Controls\",\n",
    "        usecols=\"JK:KH\",\n",
    "        skiprows=5,\n",
    "    )\n",
    "\n",
    "years_worked_controls = (\n",
    "    years_worked_controls.filter(like=\"Year\")\n",
    "    .pipe(lambda df_: common_functions.col_name_changer(df_, what=\".\", how=\"_\"))\n",
    "    .assign(years_worked=lambda df_: common_functions.count_years_worked(df_))\n",
    "    .loc[:, \"years_worked\"]\n",
    ")"
   ]
  },
  {
   "cell_type": "code",
   "execution_count": 8,
   "id": "fdea0d29-a7a4-48a1-9441-230dc9c3cc60",
   "metadata": {},
   "outputs": [],
   "source": [
    "with warnings.catch_warnings():\n",
    "    warnings.filterwarnings(\"ignore\", category=UserWarning)\n",
    "\n",
    "    controls_raw = pd.read_excel(\n",
    "        RAW_FILE_LOCATION,\n",
    "        sheet_name=\"Controls\",\n",
    "        usecols=\"B, G, FZ, GA, GB, GD, GF, GJ,GQ : GZ\",\n",
    "        skiprows=5,\n",
    "    )\n",
    "controls_raw = controls_raw.rename(\n",
    "    columns={\n",
    "        \"ID\": \"companyID\",\n",
    "        \"ID.1\": \"ID\",\n",
    "        \"Number.30\": \"height\",\n",
    "        \"Number.31\": \"weight\",\n",
    "        \"Hours\": \"shift_duration\",\n",
    "        \"Place.1\": \"home_location\",\n",
    "        \"Yes / No.83\": \"industrial_plants_in_surroundings\",\n",
    "        \"km\": \"how_many_km\",\n",
    "        \"Density\": \"vehicular_traffic_density\",\n",
    "        \"Yes / No.84\": \"cigarette_smoking\",\n",
    "        \"Number.33\": \"cigarettes_per_day\",\n",
    "        \"Duration\": \"years_smoked\",\n",
    "        \"Years.5\": \"former_smoker_years_ago_stopped\",\n",
    "        \"Per day\": \"former_smoker_cigatette_a_day\",\n",
    "        \"Duration.1\": \"former_smoker_for_how_many_years\",\n",
    "    }\n",
    ")\n",
    "controls_raw = pd.concat([controls_raw, years_worked_controls], axis=\"columns\")\n",
    "\n",
    "\n",
    "controls_raw = controls_raw.assign(\n",
    "    Age=lambda df_: df_.Age.astype(int),\n",
    "    BMI=lambda df_: df_.weight.div((df_.height / 100) ** 2),\n",
    "    how_many_km=lambda df_: df_.how_many_km.astype(str)\n",
    "    .str.extract(r\"([0-9.]+)\")\n",
    "    .astype(float),\n",
    ").assign(\n",
    "    how_many_km=lambda df_: df_.how_many_km.mask(df_.how_many_km > 10, np.nan),\n",
    "    industrial_plants_in_surroundings=lambda df_: df_.industrial_plants_in_surroundings.replace(\n",
    "        {\"Yes\": True, \"No\": False}\n",
    "    ).mask(\n",
    "        df_.how_many_km.isna(), df_.industrial_plants_in_surroundings == False\n",
    "    ),\n",
    ")"
   ]
  },
  {
   "cell_type": "markdown",
   "id": "8692912e-4ded-4c68-b2d2-5dca1c21014f",
   "metadata": {},
   "source": [
    "## Combining the workers_raw and controls_raw datasets"
   ]
  }
 ],
 "metadata": {
  "kernelspec": {
   "display_name": "Python 3 (ipykernel)",
   "language": "python",
   "name": "python3"
  },
  "language_info": {
   "codemirror_mode": {
    "name": "ipython",
    "version": 3
   },
   "file_extension": ".py",
   "mimetype": "text/x-python",
   "name": "python",
   "nbconvert_exporter": "python",
   "pygments_lexer": "ipython3",
   "version": "3.10.12"
  },
  "toc-autonumbering": true,
  "toc-showcode": false,
  "toc-showmarkdowntxt": false,
  "toc-showtags": false
 },
 "nbformat": 4,
 "nbformat_minor": 5
}
