{
 "cells": [
  {
   "cell_type": "markdown",
   "id": "8ae3ae3c-4a7b-4395-bc99-df902e6701d3",
   "metadata": {},
   "source": [
    "# Imports"
   ]
  },
  {
   "cell_type": "code",
   "execution_count": 1,
   "id": "1fcbed05-cc9f-4bbc-9fad-f9cdb611dff8",
   "metadata": {
    "tags": []
   },
   "outputs": [],
   "source": [
    "import warnings\n",
    "\n",
    "import common_functions\n",
    "import numpy as np\n",
    "import pandas as pd\n",
    "import utils"
   ]
  },
  {
   "cell_type": "markdown",
   "id": "0f7ce176-da1e-4b33-939f-6cbca4e2943a",
   "metadata": {},
   "source": [
    "# Aim of this notebook\r\n",
    "\r\n",
    "**Step 1 - Processing Worker Information from HBM4EU_E-waste_template_V3_all_data_2022_11_23 Excel Workbook:**\r\n",
    "1. Process columns: jobs_at_company_site, use_of_PPE, use_of_RPE, enclosed_processing, exhaust_system, and jobs_performed.\r\n",
    "2. Determine the number of years worked.\r\n",
    "3. Concatenate the above-mentioned columns with the remaining columns to compile data related to the worker group.\r\n",
    "\r\n",
    "**Step 2 - Processing Control Information:**\r\n",
    "1. Process control information.\r\n",
    "\r\n",
    "**Step 3 - Merging Worker and Control Dataframes:**\r\n",
    "1. Merge the dataframes containing worker and control information.\r\n",
    "\r\n",
    "**Step 4 - Filtering Samples Processed at the Toxcentre, University of Antwerp:**\r\n",
    "1. Filter rows to select samples processed at the Toxcentre of the University of Antwerp.\r\n",
    "\r\n",
    "**Step 5 - Preparing Dataframe for POPs Concentrations:**\r\n",
    "1. Fill in missing values in the dataframe containing POPs concentrations with LOD/2.\r\n",
    "\r\n",
    "**Step 6 - Concatenating Processed Dataframes:**\r\n",
    "1. Concatenate all the processed dataframes to create the final dataset.\r\n",
    "\r\n",
    "**Step 7 - Saving to Disk:**\r\n",
    "1. Save thes, please feel free to ask."
   ]
  },
  {
   "cell_type": "markdown",
   "id": "d40a4861-5939-45aa-a9fe-ede948324aac",
   "metadata": {},
   "source": [
    "# Constructing the main dataframe\n",
    "## Processing Worker Information\n",
    "### Process columns: jobs_at_company_site, use_of_PPE, use_of_RPE, enclosed_processing, exhaust_system, and jobs_performed"
   ]
  },
  {
   "cell_type": "code",
   "execution_count": 2,
   "id": "6f51bd43-c507-40d3-8730-58fb98e5ded5",
   "metadata": {},
   "outputs": [],
   "source": [
    "RAW_DATA_PATH = utils.Configuration.RAW_DATA_PATH.joinpath(\n",
    "    \"HBM4EU_E-waste_template_V3_all_data_2022_11_23.xlsx\"\n",
    ")"
   ]
  },
  {
   "cell_type": "code",
   "execution_count": 3,
   "id": "b127973c-bdac-4975-b315-5535bb9c9793",
   "metadata": {},
   "outputs": [],
   "source": [
    "with warnings.catch_warnings():\n",
    "    warnings.filterwarnings(\"ignore\", category=UserWarning)\n",
    "    jobs_at_company_site = (\n",
    "        pd.read_excel(\n",
    "            RAW_DATA_PATH,\n",
    "            sheet_name=\"E-waste recycling\",\n",
    "            skiprows=4,\n",
    "            skipfooter=7,\n",
    "        )\n",
    "        .filter(like=\"Takes place at  the company site\")\n",
    "        .iloc[1:, :]\n",
    "        .reset_index(drop=True)\n",
    "        .replace(\n",
    "            {\n",
    "                \"No\": 0,\n",
    "                \"no\": 0,\n",
    "                \"Yes\": 1,\n",
    "            }\n",
    "        )\n",
    "        .fillna(0)\n",
    "        .apply(pd.to_numeric)\n",
    "        .sum(axis=1)\n",
    "    )"
   ]
  },
  {
   "cell_type": "code",
   "execution_count": 4,
   "id": "095074c2-c84b-4ca3-b0ae-ce4c6718a9c3",
   "metadata": {},
   "outputs": [],
   "source": [
    "with warnings.catch_warnings():\n",
    "    warnings.filterwarnings(\"ignore\", category=UserWarning)\n",
    "    use_of_PPE = (\n",
    "        pd.read_excel(\n",
    "            RAW_DATA_PATH,\n",
    "            sheet_name=\"E-waste recycling\",\n",
    "            skiprows=4,\n",
    "            skipfooter=7,\n",
    "        )\n",
    "        .filter(like=\"Use of other PPE\")\n",
    "        .iloc[1:, :]\n",
    "        .reset_index(drop=True)\n",
    "        .replace(\n",
    "            {\n",
    "                \"No\": 0,\n",
    "                \"no\": 0,\n",
    "                \"Yes\": 1,\n",
    "            }\n",
    "        )\n",
    "        .apply(pd.to_numeric)\n",
    "        .fillna(0)\n",
    "        .assign(\n",
    "            sum_other_PPE_use=lambda df_: df_.sum(axis=\"columns\"),\n",
    "            bool_other_PPE_use=lambda df_: df_.sum_other_PPE_use.mask(\n",
    "                df_.sum_other_PPE_use > 1, 1\n",
    "            ),\n",
    "        )[[\"sum_other_PPE_use\", \"bool_other_PPE_use\"]]\n",
    "    )"
   ]
  },
  {
   "cell_type": "code",
   "execution_count": 5,
   "id": "5a13c199-4855-418f-9ab1-ba88c0723cce",
   "metadata": {},
   "outputs": [],
   "source": [
    "with warnings.catch_warnings():\n",
    "    warnings.filterwarnings(\"ignore\", category=UserWarning)\n",
    "    use_of_RPE = (\n",
    "        pd.read_excel(\n",
    "            RAW_DATA_PATH,\n",
    "            sheet_name=\"E-waste recycling\",\n",
    "            skiprows=4,\n",
    "            skipfooter=7,\n",
    "        )\n",
    "        .filter(like=\"Use of RPE\")\n",
    "        .iloc[1:, :]\n",
    "        .reset_index(drop=True)\n",
    "        .replace(\n",
    "            {\n",
    "                \"No\": 0,\n",
    "                \"no\": 0,\n",
    "                \"Yes\": 1,\n",
    "            }\n",
    "        )\n",
    "        .apply(pd.to_numeric)\n",
    "        .fillna(0)\n",
    "        .assign(\n",
    "            sum_RPE_use=lambda df_: df_.sum(axis=\"columns\"),\n",
    "            bool_RPE_use=lambda df_: df_.sum_RPE_use.mask(df_.sum_RPE_use > 1, 1),\n",
    "        )[[\"sum_RPE_use\", \"bool_RPE_use\"]]\n",
    "    )"
   ]
  },
  {
   "cell_type": "code",
   "execution_count": 6,
   "id": "e3082d71-7096-46f4-aab3-0c7d7fa06583",
   "metadata": {},
   "outputs": [],
   "source": [
    "with warnings.catch_warnings():\n",
    "    warnings.filterwarnings(\"ignore\", category=UserWarning)\n",
    "    enclosed_processing = (\n",
    "        pd.read_excel(\n",
    "            RAW_DATA_PATH,\n",
    "            sheet_name=\"E-waste recycling\",\n",
    "            skiprows=4,\n",
    "            skipfooter=7,\n",
    "        )\n",
    "        .filter(like=\"Enclosed process\")\n",
    "        .iloc[1:, :]\n",
    "        .reset_index(drop=True)\n",
    "        .replace(\n",
    "            {\n",
    "                \"No\": 0,\n",
    "                \"no\": 0,\n",
    "                \"Yes\": 1,\n",
    "            }\n",
    "        )\n",
    "        .apply(pd.to_numeric)\n",
    "        .fillna(0)\n",
    "        .assign(\n",
    "            sum_enclosed_process=lambda df_: df_.sum(axis=\"columns\"),\n",
    "            bool_enclosed_process=lambda df_: df_.sum_enclosed_process.mask(\n",
    "                df_.sum_enclosed_process > 1, 1\n",
    "            ),\n",
    "        )[[\"sum_enclosed_process\", \"bool_enclosed_process\"]]\n",
    "    )"
   ]
  },
  {
   "cell_type": "code",
   "execution_count": 7,
   "id": "347f170a-8a49-495b-a61c-7c75bd0c856f",
   "metadata": {},
   "outputs": [],
   "source": [
    "with warnings.catch_warnings():\n",
    "    warnings.filterwarnings(\"ignore\", category=UserWarning)\n",
    "    exhaust_system = (\n",
    "        pd.read_excel(\n",
    "            RAW_DATA_PATH,\n",
    "            sheet_name=\"E-waste recycling\",\n",
    "            skiprows=4,\n",
    "            skipfooter=7,\n",
    "        )\n",
    "        .filter(like=\"Local exhaust ventilation\")\n",
    "        .loc[1:, :\"Local exhaust ventilation.14\"]\n",
    "        .reset_index(drop=True)\n",
    "        .replace(\n",
    "            {\n",
    "                \"No\": 0,\n",
    "                \"no\": 0,\n",
    "                \"Yes\": 1,\n",
    "            }\n",
    "        )\n",
    "        .apply(pd.to_numeric)\n",
    "        .fillna(0)\n",
    "        .assign(\n",
    "            sum_local_exhaust=lambda df_: df_.sum(axis=\"columns\"),\n",
    "            bool_local_exhaust=lambda df_: df_.sum_local_exhaust.mask(\n",
    "                df_.sum_local_exhaust > 1, 1\n",
    "            ),\n",
    "        )[[\"sum_local_exhaust\", \"bool_local_exhaust\"]]\n",
    "    )"
   ]
  },
  {
   "cell_type": "code",
   "execution_count": 8,
   "id": "090f0d37-7ac7-4ad2-b451-a4800bdbcc5d",
   "metadata": {
    "tags": []
   },
   "outputs": [],
   "source": [
    "with warnings.catch_warnings():\n",
    "    warnings.filterwarnings(\"ignore\", category=UserWarning)\n",
    "    jobs_performed = (\n",
    "        pd.read_excel(\n",
    "            RAW_DATA_PATH,\n",
    "            sheet_name=\"E-waste recycling\",\n",
    "            skiprows=3,\n",
    "            skipfooter=7,\n",
    "        )\n",
    "        .filter(like=\"Job\")\n",
    "        .loc[2:, :]\n",
    "        .reset_index(drop=True)\n",
    "        .replace(\n",
    "            {\n",
    "                \"Yes\": 1,\n",
    "                \"No\": 0,\n",
    "                \"no\": 0,\n",
    "            }\n",
    "        )\n",
    "        .rename(columns=lambda x: (x[:6]).replace(\":\", \"\").replace(\" \", \"\"))\n",
    "        .rename(columns={\"Operat\": \"Job1\"})\n",
    "        .fillna(0)\n",
    "    )"
   ]
  },
  {
   "cell_type": "markdown",
   "id": "961169f4-bff6-419d-8923-0a2f0d6f06bf",
   "metadata": {},
   "source": [
    "### Determining the number of years worked"
   ]
  },
  {
   "cell_type": "code",
   "execution_count": 9,
   "id": "37400e37-de9c-416e-9076-163db22b0ac9",
   "metadata": {},
   "outputs": [],
   "source": [
    "with warnings.catch_warnings():\n",
    "    warnings.filterwarnings(\"ignore\", category=UserWarning)\n",
    "\n",
    "    years_worked_workers = pd.read_excel(\n",
    "        RAW_DATA_PATH,\n",
    "        sheet_name=\"E-waste recycling\",\n",
    "        usecols=\"JK:KI\",\n",
    "        skiprows=5,\n",
    "        skipfooter=7,\n",
    "    )\n",
    "    years_worked_workers = (\n",
    "        years_worked_workers.filter(like=\"Year\")\n",
    "        .pipe(lambda df_: common_functions.col_name_changer(df_, what=\".\", how=\"_\"))\n",
    "        .assign(years_worked=lambda df_: common_functions.count_years_worked(df_))\n",
    "        .loc[:, \"years_worked\"]\n",
    "    )"
   ]
  },
  {
   "cell_type": "markdown",
   "id": "684386f9-fbc4-4f09-a559-bc8be80fd819",
   "metadata": {},
   "source": [
    "### Read in main workers dataframe and concat with RPE and years_worked"
   ]
  },
  {
   "cell_type": "code",
   "execution_count": 10,
   "id": "39278698-f8b0-4ad7-a056-82d4816de00e",
   "metadata": {},
   "outputs": [],
   "source": [
    "with warnings.catch_warnings():\n",
    "    warnings.filterwarnings(\"ignore\", category=UserWarning)\n",
    "    workers_raw = pd.read_excel(\n",
    "        RAW_DATA_PATH,\n",
    "        sheet_name=\"E-waste recycling\",\n",
    "        usecols=\"B, H, G, GA, GB, GC, GE, GG, GK, GR: GU, GV:HA\",\n",
    "        skiprows=5,\n",
    "        skipfooter=7,\n",
    "    )\n",
    "workers_raw = workers_raw.rename(\n",
    "    columns={\n",
    "        \"ID\": \"companyID\",\n",
    "        \"ID.1\": \"ID\",\n",
    "        \"Number.30\": \"height\",\n",
    "        \"Number.31\": \"weight\",\n",
    "        \"Hours\": \"shift_duration\",\n",
    "        \"Place.1\": \"home_location\",\n",
    "        \"Yes / No.83\": \"industrial_plants_in_surroundings\",\n",
    "        \"km\": \"how_many_km\",\n",
    "        \"Density\": \"vehicular_traffic_density\",\n",
    "        \"Yes / No.84\": \"cigarette_smoking\",\n",
    "        \"Number.33\": \"cigarettes_per_day\",\n",
    "        \"Duration\": \"years_smoked\",\n",
    "        \"Years.5\": \"former_smoker_years_ago_stopped\",\n",
    "        \"Per day\": \"former_smoker_cigatette_a_day\",\n",
    "        \"Duration.1\": \"former_smoker_for_how_many_years\",\n",
    "    }\n",
    ")\n",
    "workers_raw = pd.concat(\n",
    "    [\n",
    "        workers_raw,\n",
    "        years_worked_workers,\n",
    "        use_of_PPE,\n",
    "        use_of_RPE,\n",
    "        enclosed_processing,\n",
    "        exhaust_system,\n",
    "        jobs_performed,\n",
    "    ],\n",
    "    axis=\"columns\",\n",
    ")\n",
    "\n",
    "workers_raw = workers_raw.assign(\n",
    "    Category=lambda df_: df_.Category.str.replace(\n",
    "        r\"([0-9])\", \"\", regex=True\n",
    "    ).str.replace(\".\", \"\", regex=True),\n",
    "    # .astype('category'),\n",
    "    Age=lambda df_: df_.Age.astype(int),\n",
    "    height=lambda df_: df_.height.astype(str).str.extract(r\"([0-9.]+)\").astype(float),\n",
    "    weight=lambda df_: df_.weight.astype(str).str.extract(r\"([0-9.]+)\").astype(float),\n",
    "    BMI=lambda df_: df_.weight.div((df_.height / 100) ** 2),\n",
    "    how_many_km=lambda df_: df_.how_many_km.replace(r\"-\", np.nan).astype(float),\n",
    ").assign(\n",
    "    how_many_km=lambda df_: df_.how_many_km.mask(df_.how_many_km > 10, np.nan),\n",
    "    industrial_plants_in_surroundings=lambda df_: df_.industrial_plants_in_surroundings.replace(\n",
    "        {\"Yes\": True, \"No\": False}\n",
    "    ).mask(\n",
    "        df_.how_many_km.isna(), df_.industrial_plants_in_surroundings == False\n",
    "    ),\n",
    ")"
   ]
  },
  {
   "cell_type": "markdown",
   "id": "ea114484-e723-449a-a9f5-cface80f344d",
   "metadata": {},
   "source": [
    "## Processing Control Information"
   ]
  },
  {
   "cell_type": "code",
   "execution_count": 11,
   "id": "2941478a-f0a1-436d-9c4b-19d87ed98d48",
   "metadata": {},
   "outputs": [],
   "source": [
    "with warnings.catch_warnings():\n",
    "    warnings.filterwarnings(\"ignore\", category=UserWarning)\n",
    "    years_worked_controls = pd.read_excel(\n",
    "        RAW_DATA_PATH,\n",
    "        sheet_name=\"Controls\",\n",
    "        usecols=\"JK:KH\",\n",
    "        skiprows=5,\n",
    "        # skipfooter = 12\n",
    "    )\n",
    "years_worked_controls = (\n",
    "    years_worked_controls.filter(like=\"Year\")\n",
    "    .pipe(lambda df_: common_functions.col_name_changer(df_, what=\".\", how=\"_\"))\n",
    "    .assign(years_worked=lambda df_: common_functions.count_years_worked(df_))\n",
    "    .loc[:, \"years_worked\"]\n",
    ")"
   ]
  },
  {
   "cell_type": "code",
   "execution_count": 12,
   "id": "fdea0d29-a7a4-48a1-9441-230dc9c3cc60",
   "metadata": {},
   "outputs": [],
   "source": [
    "with warnings.catch_warnings():\n",
    "    warnings.filterwarnings(\"ignore\", category=UserWarning)\n",
    "\n",
    "    controls_raw = pd.read_excel(\n",
    "        RAW_DATA_PATH,\n",
    "        sheet_name=\"Controls\",\n",
    "        usecols=\"B, G, FZ, GA, GB, GD, GF, GJ,GQ : GZ\",\n",
    "        skiprows=5,\n",
    "    )\n",
    "controls_raw = controls_raw.rename(\n",
    "    columns={\n",
    "        \"ID\": \"companyID\",\n",
    "        \"ID.1\": \"ID\",\n",
    "        \"Number.30\": \"height\",\n",
    "        \"Number.31\": \"weight\",\n",
    "        \"Hours\": \"shift_duration\",\n",
    "        \"Place.1\": \"home_location\",\n",
    "        \"Yes / No.83\": \"industrial_plants_in_surroundings\",\n",
    "        \"km\": \"how_many_km\",\n",
    "        \"Density\": \"vehicular_traffic_density\",\n",
    "        \"Yes / No.84\": \"cigarette_smoking\",\n",
    "        \"Number.33\": \"cigarettes_per_day\",\n",
    "        \"Duration\": \"years_smoked\",\n",
    "        \"Years.5\": \"former_smoker_years_ago_stopped\",\n",
    "        \"Per day\": \"former_smoker_cigatette_a_day\",\n",
    "        \"Duration.1\": \"former_smoker_for_how_many_years\",\n",
    "    }\n",
    ")\n",
    "controls_raw = pd.concat([controls_raw, years_worked_controls], axis=\"columns\")\n",
    "\n",
    "\n",
    "controls_raw = controls_raw.assign(\n",
    "    Age=lambda df_: df_.Age.astype(int),\n",
    "    BMI=lambda df_: df_.weight.div((df_.height / 100) ** 2),\n",
    "    how_many_km=lambda df_: df_.how_many_km.astype(str)\n",
    "    .str.extract(r\"([0-9.]+)\")\n",
    "    .astype(float),\n",
    ").assign(\n",
    "    how_many_km=lambda df_: df_.how_many_km.mask(df_.how_many_km > 10, np.nan),\n",
    "    industrial_plants_in_surroundings=lambda df_: df_.industrial_plants_in_surroundings.replace(\n",
    "        {\"Yes\": True, \"No\": False}\n",
    "    ).mask(\n",
    "        df_.how_many_km.isna(), df_.industrial_plants_in_surroundings == False\n",
    "    ),\n",
    ")"
   ]
  },
  {
   "cell_type": "markdown",
   "id": "8692912e-4ded-4c68-b2d2-5dca1c21014f",
   "metadata": {},
   "source": [
    "##  Merging Worker and Control Dataframes"
   ]
  },
  {
   "cell_type": "code",
   "execution_count": 13,
   "id": "77f53b99-b886-4114-8bf1-02f48ba3ae89",
   "metadata": {},
   "outputs": [
    {
     "name": "stdout",
     "output_type": "stream",
     "text": [
      "(268, 44)\n"
     ]
    },
    {
     "name": "stderr",
     "output_type": "stream",
     "text": [
      "C:\\Users\\s0212777\\AppData\\Local\\Temp\\ipykernel_14980\\1503741716.py:1: FutureWarning: In a future version, object-dtype columns with all-bool values will not be included in reductions with bool_only=True. Explicitly cast to bool dtype instead.\n",
      "  workers_controls_all = pd.concat([workers_raw, controls_raw], ignore_index=True)\n"
     ]
    }
   ],
   "source": [
    "workers_controls_all = pd.concat([workers_raw, controls_raw], ignore_index=True)\n",
    "print(workers_controls_all.shape)"
   ]
  },
  {
   "cell_type": "markdown",
   "id": "b66c3487-551c-4eeb-99c3-ed2ec32da46d",
   "metadata": {},
   "source": [
    "### Filtering Samples Processed at the Toxcentre, University of Antwerp"
   ]
  },
  {
   "cell_type": "code",
   "execution_count": 14,
   "id": "081b6108-6de1-4f00-9866-6500090252a3",
   "metadata": {},
   "outputs": [],
   "source": [
    "with warnings.catch_warnings():\n",
    "    warnings.filterwarnings(\"ignore\", category=UserWarning)\n",
    "    UA_measured_samples = pd.read_excel(\n",
    "        RAW_DATA_PATH,\n",
    "        sheet_name=\"E-waste study UA data\",\n",
    "        usecols=\"B:D\",\n",
    "        skiprows=6,\n",
    "        skipfooter=24,\n",
    "    )\n",
    "\n",
    "UA_measured_samples = UA_measured_samples.rename(\n",
    "    columns={\n",
    "        \"ID short\": \"ID\",\n",
    "        \"Unnamed: 2\": \"main_category\",\n",
    "        \"Unnamed: 3\": \"CTR_subcategory\",\n",
    "    }\n",
    ").assign(\n",
    "    CTR_subcategory=lambda df_: df_.CTR_subcategory.replace(\n",
    "        {1: \"within_CTR\", 2: \"outwith_CTR\"}\n",
    "    )\n",
    ")"
   ]
  },
  {
   "cell_type": "code",
   "execution_count": 15,
   "id": "7f97fb8a-e916-494a-8d38-86ee730fbc83",
   "metadata": {},
   "outputs": [
    {
     "name": "stdout",
     "output_type": "stream",
     "text": [
      "(169, 44)\n"
     ]
    }
   ],
   "source": [
    "# only keep rows (IDs) that are present in the UA_measured_samples, ie measured by us\n",
    "\n",
    "workers_controls_all_measured = workers_controls_all[\n",
    "    workers_controls_all[\"ID\"].isin(UA_measured_samples[\"ID\"])\n",
    "]\n",
    "print(workers_controls_all_measured.shape)"
   ]
  },
  {
   "cell_type": "code",
   "execution_count": 16,
   "id": "7c6b979a-0b81-4685-bc3a-577a7afbc247",
   "metadata": {},
   "outputs": [
    {
     "name": "stdout",
     "output_type": "stream",
     "text": [
      "(169, 45)\n"
     ]
    }
   ],
   "source": [
    "workers_controls_all_measured = (\n",
    "    workers_controls_all_measured.set_index(\"ID\")\n",
    "    .join(UA_measured_samples.set_index(\"ID\"))\n",
    "    .assign(\n",
    "        sub_category=lambda df_: df_.Category.mask(\n",
    "            df_.Category.isna(), df_.CTR_subcategory\n",
    "        )\n",
    "    )\n",
    "    .drop([\"Category\", \"CTR_subcategory\"], axis=\"columns\")\n",
    "    .reset_index(drop=False)\n",
    ")\n",
    "print(workers_controls_all_measured.shape)"
   ]
  },
  {
   "cell_type": "markdown",
   "id": "8e3b3ec6-c806-4951-b3cb-94eed1b87705",
   "metadata": {},
   "source": [
    "## Preparing Dataframe for POPs Concentrations"
   ]
  },
  {
   "cell_type": "code",
   "execution_count": 17,
   "id": "27582173-c40a-4f37-b733-ece550dd1a6b",
   "metadata": {},
   "outputs": [],
   "source": [
    "UA_POP_raw = pd.read_excel(\n",
    "    RAW_DATA_PATH,\n",
    "    sheet_name=\"E-waste study UA data\",\n",
    "    skiprows=3,\n",
    "    nrows=172,\n",
    ")\n",
    "\n",
    "columns_to_keep = [\n",
    "    \"Worker ID (without letter 'E')\",\n",
    "    \"PCB 28\",\n",
    "    \"PCB 52\",\n",
    "    \"PCB 101\",\n",
    "    \"PCB 118\",\n",
    "    \"PCB 138\",\n",
    "    \"PCB 153\",\n",
    "    \"PCB 180\",\n",
    "    \"BDE 28 [2,4,4′-Tribromodiphenyl ether]\",\n",
    "    \"BDE 47 [2,2′,4,4′-tetrabromodiphenyl ether]\",\n",
    "    \"BDE 99\",\n",
    "    \"BDE 100\",\n",
    "    \"BDE 153\",\n",
    "    \"BDE 154\",\n",
    "    \"BDE 183\",\n",
    "    \"BDE 209\",\n",
    "    \"Dechlorane\",\n",
    "]\n",
    "\n",
    "UA_POP_raw = (\n",
    "    UA_POP_raw.loc[3:, lambda df_: ~df_.columns.str.contains(\"Unnamed\")]\n",
    "    .reset_index(drop=True)\n",
    "    .loc[:, lambda df_: df_.columns.isin(columns_to_keep)]\n",
    "    .rename(\n",
    "        columns={\n",
    "            \"BDE 28 [2,4,4′-Tribromodiphenyl ether]\": \"BDE 28\",\n",
    "            \"BDE 47 [2,2′,4,4′-tetrabromodiphenyl ether]\": \"BDE 47\",\n",
    "        }\n",
    "    )\n",
    ")"
   ]
  },
  {
   "cell_type": "markdown",
   "id": "47ba6c70-da88-4af9-bbef-0bbf4c1f42ed",
   "metadata": {},
   "source": [
    "### Fill in missing values in the dataframe containing POPs concentrations with LOD/2"
   ]
  },
  {
   "cell_type": "code",
   "execution_count": 18,
   "id": "c81e0794-2bed-4cdc-9030-4c379237dd5d",
   "metadata": {},
   "outputs": [],
   "source": [
    "keys = UA_POP_raw.columns[1:]\n",
    "value = []\n",
    "replaced_dict = {key: list(value) for key in keys}\n",
    "\n",
    "UA_POP_mod = UA_POP_raw.copy(deep=True)\n",
    "UA_POP_mod\n",
    "\n",
    "for i in UA_POP_mod.columns[1:]:\n",
    "    for x in UA_POP_mod[i]:\n",
    "        if isinstance(x, str):\n",
    "            replaced_dict[i].append(float(x.replace(\"<\", \"\")) / 2)\n",
    "        else:\n",
    "            replaced_dict[i].append(x)\n",
    "\n",
    "\n",
    "UA_POP_mod = pd.concat(\n",
    "    [\n",
    "        UA_POP_mod[\"Worker ID (without letter 'E')\"],\n",
    "        (pd.DataFrame.from_dict(replaced_dict, orient=\"columns\")),\n",
    "    ],\n",
    "    axis=\"columns\",\n",
    ")"
   ]
  },
  {
   "cell_type": "markdown",
   "id": "963913ef-957d-40cc-be21-5935a4a41893",
   "metadata": {},
   "source": [
    "## Concatenating Processed Dataframes"
   ]
  },
  {
   "cell_type": "code",
   "execution_count": 19,
   "id": "d66ce591-3694-4e35-b271-0e2fc2afa788",
   "metadata": {},
   "outputs": [
    {
     "name": "stdout",
     "output_type": "stream",
     "text": [
      "(169, 60)\n"
     ]
    }
   ],
   "source": [
    "df = (\n",
    "    workers_controls_all_measured.set_index(\"ID\")\n",
    "    .join(UA_POP_mod.set_index(\"Worker ID (without letter 'E')\"))\n",
    "    .assign(\n",
    "        main_category=lambda df_: df_.main_category.replace(\n",
    "            {\"Worker (E-waste recycling)\": \"Worker\"}\n",
    "        ),\n",
    "        sub_category=lambda df_: df_.sub_category.replace(\" \", \"\", regex=True).replace(\n",
    "            {\n",
    "                \"Browngoods\": \"Brown goods\",\n",
    "                \"Metalsandplastics\": \"Metals and plastics\",\n",
    "                \"MiscellaneousE-waste\": \"Miscellaneous\",\n",
    "                \"Whitegoods\": \"White goods\",\n",
    "            }\n",
    "        ),\n",
    "        Tonnes=lambda df: pd.to_numeric(df.Tonnes, errors=\"coerce\"),\n",
    "    )\n",
    ")\n",
    "\n",
    "df.loc[:, \"PCB 28\":\"Dechlorane\"] = df.loc[:, \"PCB 28\":\"Dechlorane\"].mul(\n",
    "    1000\n",
    ")  # multiplied by 1000 to convert the concentrations to ng/L\n",
    "print(df.shape)"
   ]
  },
  {
   "cell_type": "markdown",
   "id": "ccc75ab4-f6bd-4d73-835a-32ea99736b2a",
   "metadata": {},
   "source": [
    "# Saving to Disk"
   ]
  },
  {
   "cell_type": "code",
   "execution_count": 20,
   "id": "2ce1d8a1-caa4-4a74-8b37-e8ba2e63a23e",
   "metadata": {},
   "outputs": [],
   "source": [
    "df.to_parquet(\n",
    "    utils.Configuration.INTERIM_DATA_PATH.joinpath(\n",
    "        \"HBM4EU_E-waste_template_V3_all_data_INTERIM.parquet.gzip\"\n",
    "    ),\n",
    "    compression=\"gzip\",\n",
    ")"
   ]
  }
 ],
 "metadata": {
  "kernelspec": {
   "display_name": "Python 3 (ipykernel)",
   "language": "python",
   "name": "python3"
  },
  "language_info": {
   "codemirror_mode": {
    "name": "ipython",
    "version": 3
   },
   "file_extension": ".py",
   "mimetype": "text/x-python",
   "name": "python",
   "nbconvert_exporter": "python",
   "pygments_lexer": "ipython3",
   "version": "3.10.12"
  },
  "toc-autonumbering": true,
  "toc-showcode": false,
  "toc-showmarkdowntxt": false,
  "toc-showtags": false
 },
 "nbformat": 4,
 "nbformat_minor": 5
}
