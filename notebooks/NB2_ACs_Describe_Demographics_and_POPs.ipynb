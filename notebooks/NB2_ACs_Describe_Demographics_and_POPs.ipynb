{
 "cells": [
  {
   "cell_type": "markdown",
   "id": "8ae3ae3c-4a7b-4395-bc99-df902e6701d3",
   "metadata": {},
   "source": [
    "# Imports"
   ]
  },
  {
   "cell_type": "code",
   "execution_count": null,
   "id": "1fcbed05-cc9f-4bbc-9fad-f9cdb611dff8",
   "metadata": {
    "tags": []
   },
   "outputs": [],
   "source": [
    "import warnings\n",
    "\n",
    "warnings.simplefilter(action=\"ignore\", category=FutureWarning)\n",
    "from collections import defaultdict\n",
    "\n",
    "import matplotlib.pyplot as plt\n",
    "import numpy as np\n",
    "import pandas as pd\n",
    "import seaborn as sns\n",
    "from matplotlib.ticker import FormatStrFormatter\n",
    "from PIL import Image, ImageDraw, ImageFont\n",
    "from statannotations.Annotator import Annotator\n",
    "\n",
    "import common_functions\n",
    "import utils"
   ]
  },
  {
   "cell_type": "markdown",
   "id": "4fde7680-83a3-489f-a2ec-ebd0e6399ca2",
   "metadata": {},
   "source": [
    "# Aim of this notebook  \n",
    "\n",
    "\n",
    "1. **Describe Key Population Statistics:** Provide an overview of the primary variables related to population statistics.\n",
    "2. **Explore Categorical Stratification:** Investigate the data using both main categorical stratification and sub-category based stratification.\n",
    "3. **Analyze Serum POPs Distribution:** Describe the distribution of Persistent Organic Pollutants (POPs) in serum.\n",
    "4. **Perform Statistical Analysis for the Serum POPs concentrations:** According to main, and sub-category specific stratification\n",
    "\n"
   ]
  },
  {
   "cell_type": "code",
   "execution_count": null,
   "id": "e8bb6c94-781a-4998-b360-5085317f9481",
   "metadata": {},
   "outputs": [],
   "source": [
    "DATA_PATH = utils.Configuration.INTERIM_DATA_PATH.joinpath(\n",
    "    \"HBM4EU_E-waste_template_V3_all_data_INTERIM.parquet.gzip\"\n",
    ")\n",
    "\n",
    "df = pd.read_parquet(DATA_PATH).rename(columns=lambda x: x.replace(\"PCB\", \"CB\"))"
   ]
  },
  {
   "cell_type": "markdown",
   "id": "ac0af795-05b6-4730-9bea-1896e2551352",
   "metadata": {},
   "source": [
    "## Characterizing the population based on age, BMI, shift duration, number of individuals per group and number of years worked"
   ]
  },
  {
   "cell_type": "code",
   "execution_count": null,
   "id": "8cc04637-9667-4970-9831-8bb1abaca4e5",
   "metadata": {
    "tags": []
   },
   "outputs": [],
   "source": [
    "(\n",
    "    pd.concat(\n",
    "        [\n",
    "            (\n",
    "                df.groupby([\"main_category\", \"sub_category\"])\n",
    "                .agg(\n",
    "                    age_mean=(\"Age\", \"mean\"),\n",
    "                    age_std=(\"Age\", \"std\"),\n",
    "                    BMI_mean=(\"BMI\", \"mean\"),\n",
    "                    BMI_std=(\"BMI\", \"std\"),\n",
    "                    shift_duration_mean=(\"shift_duration\", \"mean\"),\n",
    "                    shift_duration_std=(\"shift_duration\", \"std\"),\n",
    "                    years_worked_mean=(\"years_worked\", \"mean\"),\n",
    "                    years_worked_std=(\"years_worked\", \"std\"),\n",
    "                )\n",
    "                .round(1)\n",
    "                .assign(\n",
    "                    Age=lambda df: df[\"age_mean\"].astype(str)\n",
    "                    + \" (\"\n",
    "                    + df[\"age_std\"].astype(str)\n",
    "                    + \")\"\n",
    "                )\n",
    "                .assign(\n",
    "                    BMI=lambda df: df[\"BMI_mean\"].astype(str)\n",
    "                    + \" (\"\n",
    "                    + df[\"BMI_std\"].astype(str)\n",
    "                    + \")\"\n",
    "                )\n",
    "                .assign(\n",
    "                    Shift_duration=lambda df: df[\"shift_duration_mean\"].astype(str)\n",
    "                    + \" (\"\n",
    "                    + df[\"shift_duration_std\"].astype(str)\n",
    "                    + \")\"\n",
    "                )\n",
    "                .assign(\n",
    "                    Years_worked=lambda df: df[\"years_worked_mean\"].astype(str)\n",
    "                    + \" (\"\n",
    "                    + df[\"years_worked_std\"].astype(str)\n",
    "                    + \")\"\n",
    "                )\n",
    "                .loc[:, \"Age\":]\n",
    "            ),\n",
    "            (df.groupby([\"main_category\", \"sub_category\", \"Sex\"]).size().unstack()),\n",
    "        ],\n",
    "        axis=1,\n",
    "    )\n",
    "    .assign(\n",
    "        Total_number=lambda df: (df.Female + df.Male).astype(str)\n",
    "        + \" (\"\n",
    "        + df.Female.astype(str)\n",
    "        + \"F/\"\n",
    "        + df.Male.astype(str)\n",
    "        + \"M)\"\n",
    "    )\n",
    "    .drop(columns=[\"Male\", \"Female\"])\n",
    "    .sort_index(axis=1)\n",
    ")"
   ]
  },
  {
   "cell_type": "markdown",
   "id": "3b587776-2d8f-4129-81af-8d25c9fb37b9",
   "metadata": {},
   "source": [
    "# Describe Key Population Statistics"
   ]
  },
  {
   "cell_type": "markdown",
   "id": "bf1fea15-f560-481a-9b51-7993f5e5215c",
   "metadata": {},
   "source": [
    "## Based on main_categories"
   ]
  },
  {
   "cell_type": "code",
   "execution_count": null,
   "id": "e7a231ad-5729-42fa-9b93-c99f44b1468e",
   "metadata": {},
   "outputs": [],
   "source": [
    "numeric_columns_1 = (\n",
    "    df.select_dtypes(\"number\")\n",
    "    .sort_index(axis=\"columns\")\n",
    "    .loc[\n",
    "        :,\n",
    "        [\n",
    "            \"Age\",\n",
    "            \"BMI\",\n",
    "            \"height\",\n",
    "            \"weight\",\n",
    "            \"years_worked\",\n",
    "            \"shift_duration\",\n",
    "            \"years_smoked\",\n",
    "            \"cigarettes_per_day\",\n",
    "            \"how_many_km\",\n",
    "        ],\n",
    "    ]\n",
    ")\n",
    "\n",
    "\n",
    "fig = plt.figure(figsize=(8, 4))\n",
    "rows, cols = 2, 5\n",
    "\n",
    "for idx, i in enumerate(numeric_columns_1.columns):\n",
    "    pairs, p_values = common_functions.get_pairs_values_for_mannwhitneyu(\n",
    "        data=df, value_var=i, id_vars=[\"Worker\", \"Control\"], col=\"main_category\"\n",
    "    )\n",
    "\n",
    "    fig.add_subplot(rows, cols, idx + 1)\n",
    "    (\n",
    "        df.loc[:, lambda df_: [\"main_category\", i]]\n",
    "        .rename(columns=lambda df_: df_.replace(\"_\", \" \").title())\n",
    "        .replace(\"_\", \" \", regex=True)\n",
    "        .pipe(\n",
    "            lambda df_: common_functions.return_sns_box(\n",
    "                df=df_, x=df_[\"Main Category\"], y=df[i], ax=fig.axes[idx]\n",
    "            )\n",
    "        )\n",
    "    )\n",
    "\n",
    "    fig.axes[idx].set_title(i.replace(\"_\", \" \").title())\n",
    "    fig.axes[idx].set_xlabel(\"\")\n",
    "    fig.axes[idx].set_ylabel(\"\")\n",
    "    fig.axes[idx].grid(False)\n",
    "    plt.xticks(rotation=90)\n",
    "    fig.tight_layout()\n",
    "\n",
    "    if p_values[0] < 0.05:\n",
    "        annotator = Annotator(\n",
    "            fig.axes[idx], pairs=pairs, data=df, x=\"main_category\", y=i, verbose=False\n",
    "        )\n",
    "        annotator.configure(text_format=\"star\", loc=\"inside\", line_width=1, test=None)\n",
    "        annotator.set_pvalues_and_annotate(p_values)\n",
    "    else:\n",
    "        continue\n",
    "\n",
    "plt.suptitle(\"\")"
   ]
  },
  {
   "cell_type": "markdown",
   "id": "b81087a1-a027-4bd3-8618-9357d52eb6c8",
   "metadata": {},
   "source": [
    "## Based on sub_categories"
   ]
  },
  {
   "cell_type": "code",
   "execution_count": null,
   "id": "03f2f057-ebce-4c8f-9535-dd03b44105af",
   "metadata": {
    "tags": []
   },
   "outputs": [],
   "source": [
    "fig = plt.figure(figsize=(12, 7))\n",
    "rows, cols = 2, 5\n",
    "\n",
    "for idx, i in enumerate(numeric_columns_1.columns):\n",
    "    pairs, p_values = common_functions.get_pairs_values_for_posthoc_dunn(\n",
    "        data=df, value_vars=i, id_vars=\"sub_category\"\n",
    "    )\n",
    "\n",
    "    fig.add_subplot(rows, cols, idx + 1)\n",
    "    (\n",
    "        df.loc[:, lambda df_: [\"sub_category\", i]]\n",
    "        .rename(columns=lambda df_: df_.replace(\"_\", \" \").title())\n",
    "        .replace(\"_\", \" \", regex=True)\n",
    "        .pipe(\n",
    "            lambda df_: common_functions.return_sns_box(\n",
    "                df=df_, x=df_[\"Sub Category\"], y=df[i], ax=fig.axes[idx]\n",
    "            )\n",
    "        )\n",
    "    )\n",
    "\n",
    "    fig.axes[idx].set_title(i.replace(\"_\", \" \").title())\n",
    "    fig.axes[idx].set_xlabel(\"\")\n",
    "    fig.axes[idx].set_ylabel(\"\")\n",
    "    fig.axes[idx].grid(False)\n",
    "    plt.xticks(rotation=90)\n",
    "    fig.tight_layout()\n",
    "\n",
    "    if len(pairs) >= 1:\n",
    "        annotator = Annotator(\n",
    "            fig.axes[idx], pairs, data=df, x=\"sub_category\", y=i, verbose=False\n",
    "        )\n",
    "        annotator.configure(text_format=\"star\", loc=\"inside\", line_width=1, test=None)\n",
    "        annotator.set_pvalues_and_annotate(p_values)\n",
    "    else:\n",
    "        continue\n",
    "\n",
    "plt.suptitle(\"\")"
   ]
  },
  {
   "cell_type": "markdown",
   "id": "ff7d76a2-80d6-421e-8f9e-1c699b294113",
   "metadata": {},
   "source": [
    "# Analyze Serum POPs Distribution"
   ]
  },
  {
   "cell_type": "markdown",
   "id": "a4f08d54-a345-4b60-9a14-e1aa2686a2e2",
   "metadata": {},
   "source": [
    "## Detection frequencies of serum POPs"
   ]
  },
  {
   "cell_type": "markdown",
   "id": "c3c34639-5dce-4529-806b-d0ce63c147e0",
   "metadata": {},
   "source": [
    "### Aggregated"
   ]
  },
  {
   "cell_type": "code",
   "execution_count": null,
   "id": "25ed8c1d-1310-4ebd-a276-f9a644f4f011",
   "metadata": {},
   "outputs": [],
   "source": [
    "# We need to read in our concentration data again to calculate detection frequencies, since the missing values were converted to LOD/2 for easier processing\n",
    "\n",
    "RAW_DATA_PATH = utils.Configuration.RAW_DATA_PATH.joinpath(\n",
    "    \"HBM4EU_E-waste_template_V3_all_data_2022_11_23.xlsx\"\n",
    ")\n",
    "\n",
    "UA_POP_raw = pd.read_excel(\n",
    "    RAW_DATA_PATH,\n",
    "    sheet_name=\"E-waste study UA data\",\n",
    "    skiprows=3,\n",
    "    nrows=172,\n",
    ")\n",
    "\n",
    "columns_to_keep = [\n",
    "    \"Worker ID (without letter 'E')\",\n",
    "    \"PCB 28\",\n",
    "    \"PCB 52\",\n",
    "    \"PCB 101\",\n",
    "    \"PCB 118\",\n",
    "    \"PCB 138\",\n",
    "    \"PCB 153\",\n",
    "    \"PCB 180\",\n",
    "    \"BDE 28 [2,4,4′-Tribromodiphenyl ether]\",\n",
    "    \"BDE 47 [2,2′,4,4′-tetrabromodiphenyl ether]\",\n",
    "    \"BDE 99\",\n",
    "    \"BDE 100\",\n",
    "    \"BDE 153\",\n",
    "    \"BDE 154\",\n",
    "    \"BDE 183\",\n",
    "    \"BDE 209\",\n",
    "    \"Dechlorane\",\n",
    "]\n",
    "\n",
    "UA_POP_raw = (\n",
    "    UA_POP_raw.loc[3:, lambda df_: ~df_.columns.str.contains(\"Unnamed\")]\n",
    "    .reset_index(drop=True)\n",
    "    .loc[:, lambda df_: df_.columns.isin(columns_to_keep)]\n",
    "    .rename(\n",
    "        columns={\n",
    "            \"BDE 28 [2,4,4′-Tribromodiphenyl ether]\": \"BDE 28\",\n",
    "            \"BDE 47 [2,2′,4,4′-tetrabromodiphenyl ether]\": \"BDE 47\",\n",
    "            \"Worker ID (without letter 'E')\": \"Worker_ID\",\n",
    "        }\n",
    "    )\n",
    "    .set_index(\"Worker_ID\")\n",
    "    .apply(pd.to_numeric, errors=\"coerce\")\n",
    "    .rename(columns=lambda x: x.replace(\"PCB\", \"CB\"))\n",
    ")\n",
    "UA_POP_raw"
   ]
  },
  {
   "cell_type": "code",
   "execution_count": null,
   "id": "5464fb6c-6253-4f63-b466-92a725099fa5",
   "metadata": {},
   "outputs": [],
   "source": [
    "df_detection_frequency = UA_POP_raw.merge(\n",
    "    df[[\"main_category\", \"sub_category\"]], left_index=True, right_index=True\n",
    ")\n",
    "df_detection_frequency.shape"
   ]
  },
  {
   "cell_type": "code",
   "execution_count": null,
   "id": "d5844c99-7585-40c3-b2ac-a8d0df0720f2",
   "metadata": {},
   "outputs": [],
   "source": [
    "aggregated_detection_frequency = (\n",
    "    df_detection_frequency.loc[:, :\"Dechlorane\"]\n",
    "    .notna()\n",
    "    .sum()\n",
    "    .div(UA_POP_raw.shape[0])\n",
    "    .mul(100)\n",
    "    .round(1)\n",
    ")\n",
    "aggregated_detection_frequency"
   ]
  },
  {
   "cell_type": "markdown",
   "id": "bd57c0f8-ce70-4009-ba95-26099f6e649d",
   "metadata": {},
   "source": [
    "### Main-category specific"
   ]
  },
  {
   "cell_type": "code",
   "execution_count": null,
   "id": "e5205d13-76c8-4f1b-ab41-944ff6539a84",
   "metadata": {},
   "outputs": [],
   "source": [
    "main_category_detection_frequency = (\n",
    "    df_detection_frequency.drop(columns=\"sub_category\")\n",
    "    .pipe(lambda df: df.assign(**{col: df[col].notna() for col in df.columns[:-1]}))\n",
    "    .groupby(\"main_category\")\n",
    "    .sum()\n",
    "    .div(df_detection_frequency.main_category.value_counts(), axis=0)\n",
    "    .transpose()\n",
    "    .mul(100)\n",
    "    .round(1)\n",
    ")\n",
    "main_category_detection_frequency"
   ]
  },
  {
   "cell_type": "markdown",
   "id": "d8b5efb1-53c6-4f8b-abb8-3aa6502b07f1",
   "metadata": {},
   "source": [
    "### Sub-category specific"
   ]
  },
  {
   "cell_type": "code",
   "execution_count": null,
   "id": "75a32858-9fa8-4cdb-a0f4-bf74f8967161",
   "metadata": {},
   "outputs": [],
   "source": [
    "sub_category_detection_frequency = (\n",
    "    df_detection_frequency.drop(columns=\"main_category\")\n",
    "    .pipe(lambda df: df.assign(**{col: df[col].notna() for col in df.columns[:-1]}))\n",
    "    .groupby(\"sub_category\")\n",
    "    .sum()\n",
    "    .div(df_detection_frequency.sub_category.value_counts(), axis=0)\n",
    "    .transpose()\n",
    "    .mul(100)\n",
    "    .round(1)\n",
    ")\n",
    "sub_category_detection_frequency"
   ]
  },
  {
   "cell_type": "markdown",
   "id": "63836e24-8bbf-4c4e-ab6a-1a3a9fa32444",
   "metadata": {},
   "source": [
    "## Distribution of pollutants in serum"
   ]
  },
  {
   "cell_type": "markdown",
   "id": "4863d2c0-9160-4932-88e3-f47e05c3e09f",
   "metadata": {},
   "source": [
    "### Based on main_category stratification"
   ]
  },
  {
   "cell_type": "code",
   "execution_count": null,
   "id": "f4269e46-2964-4d3a-a486-b736e5440e09",
   "metadata": {},
   "outputs": [],
   "source": [
    "(\n",
    "    df.loc[:, \"main_category\":]\n",
    "    .drop(columns=\"sub_category\")\n",
    "    .groupby(\"main_category\")\n",
    "    .quantile([0.25, 0.5, 0.75])\n",
    "    .transpose()\n",
    "    .round(1)\n",
    ")"
   ]
  },
  {
   "cell_type": "markdown",
   "id": "b0478134-fdc5-4004-88eb-85d2cb5a3d2a",
   "metadata": {},
   "source": [
    "### Based on sub_category stratification"
   ]
  },
  {
   "cell_type": "code",
   "execution_count": null,
   "id": "b11cd136-aba4-4cfe-803d-1376336b3eab",
   "metadata": {},
   "outputs": [],
   "source": [
    "(\n",
    "    df.loc[:, \"sub_category\":]\n",
    "    .groupby(\"sub_category\")\n",
    "    .quantile([0.25, 0.5, 0.75])\n",
    "    .transpose()\n",
    "    .round(1)\n",
    ")"
   ]
  },
  {
   "cell_type": "markdown",
   "id": "dd56103c-edb0-4721-b4da-faf0490ae771",
   "metadata": {},
   "source": [
    "## Statistical anaysis of serum POP concentrations\n",
    "### Based on main_category stratification"
   ]
  },
  {
   "cell_type": "code",
   "execution_count": null,
   "id": "7ff86695-5db5-446b-9675-ab612ee3e07c",
   "metadata": {},
   "outputs": [],
   "source": [
    "sns.set_context(\"paper\", font_scale=1.4)\n",
    "\n",
    "fig = plt.figure(figsize=(4, 10))\n",
    "rows, cols = 2, 2\n",
    "\n",
    "over50_DF = aggregated_detection_frequency[aggregated_detection_frequency > 50].index\n",
    "\n",
    "for idx, i in enumerate(df.columns[df.columns.isin(over50_DF)]):\n",
    "    pairs, p_values = common_functions.get_pairs_values_for_mannwhitneyu(\n",
    "        data=df, value_var=i, id_vars=[\"Worker\", \"Control\"], col=\"main_category\"\n",
    "    )\n",
    "    iqr_mask = (df[i] > df[i].quantile(0.25)) & (df[i] < df[i].quantile(0.75))\n",
    "    fig.add_subplot(rows, cols, idx + 1)\n",
    "\n",
    "    PROPS = {\n",
    "        \"boxprops\": {\"facecolor\": \"white\", \"edgecolor\": \"black\"},\n",
    "        \"medianprops\": {\"color\": \"black\"},\n",
    "        \"whiskerprops\": {\"color\": \"black\"},\n",
    "        \"capprops\": {\"color\": \"black\"},\n",
    "    }\n",
    "\n",
    "    (\n",
    "        df.loc[:, lambda df_: [\"main_category\", i]].pipe(\n",
    "            lambda df_: sns.boxplot(\n",
    "                x=df_[\"main_category\"],\n",
    "                y=df[i],\n",
    "                width=0.5,\n",
    "                showfliers=False,\n",
    "                **PROPS,\n",
    "                ax=fig.axes[idx],\n",
    "            )\n",
    "        )\n",
    "    )\n",
    "    fig.axes[idx].set_title(i, fontweight=\"bold\", fontsize=14)\n",
    "    fig.axes[idx].set_xlabel(\"\")\n",
    "    fig.axes[idx].set_ylabel(\"Concentration (ng/L)\")\n",
    "    fig.axes[idx].grid(False)\n",
    "    fig.axes[idx].yaxis.set_major_formatter(FormatStrFormatter(\"%.0d\"))\n",
    "    plt.xticks()\n",
    "    plt.xticks(rotation=90)\n",
    "    fig.tight_layout()\n",
    "\n",
    "    if p_values[0] < 0.05:\n",
    "        annotator = Annotator(\n",
    "            fig.axes[idx], pairs=pairs, data=df, x=\"main_category\", y=i, verbose=False\n",
    "        )\n",
    "        annotator.configure(text_format=\"star\", loc=\"inside\", line_width=1, test=None)\n",
    "        annotator.set_pvalues_and_annotate(p_values)\n",
    "    else:\n",
    "        continue\n",
    "\n",
    "plt.suptitle(\"\")\n",
    "plt.savefig(utils.Configuration.PLOTS.joinpath(\"img1.png\"), dpi=600)"
   ]
  },
  {
   "cell_type": "markdown",
   "id": "a0ab18b7-ae4d-4197-a328-c2681edf0675",
   "metadata": {},
   "source": [
    "### Based on sub_category stratification"
   ]
  },
  {
   "cell_type": "code",
   "execution_count": null,
   "id": "e21f2cd9-5c9e-4e6a-af07-8c5254a1507f",
   "metadata": {},
   "outputs": [],
   "source": [
    "sns.set_context(\"paper\", font_scale=1.4)\n",
    "\n",
    "fig = plt.figure(figsize=(10, 12))\n",
    "rows, cols = 2, 2\n",
    "\n",
    "for idx, i in enumerate(df.columns[df.columns.isin(over50_DF)]):\n",
    "    pairs, p_values = common_functions.get_pairs_values_for_posthoc_dunn(\n",
    "        data=df, value_vars=i, id_vars=\"sub_category\", p_adjust=\"fdr_bh\"\n",
    "    )\n",
    "    PROPS = {\n",
    "        \"boxprops\": {\"facecolor\": \"white\", \"edgecolor\": \"black\"},\n",
    "        \"medianprops\": {\"color\": \"black\"},\n",
    "        \"whiskerprops\": {\"color\": \"black\"},\n",
    "        \"capprops\": {\"color\": \"black\"},\n",
    "    }\n",
    "\n",
    "    fig.add_subplot(rows, cols, idx + 1)\n",
    "    (\n",
    "        df.query(\n",
    "            \"sub_category.isin(['Brown goods', 'Metals and plastics', 'Miscellaneous', 'White goods', 'Batteries', 'outwith_CTR', 'within_CTR'])\"\n",
    "        )\n",
    "        .loc[:, lambda df_: [\"sub_category\", i]]\n",
    "        .rename(columns=lambda df_: df_.replace(\"_\", \" \").title())\n",
    "        .replace(\"_\", \" \", regex=True)\n",
    "        .replace(\n",
    "            {\n",
    "                \"outwith CTR\": \"Outwith CTR\",\n",
    "                \"within CTR\": \"Within CTR\",\n",
    "            }\n",
    "        )\n",
    "        .pipe(\n",
    "            lambda df_: sns.boxplot(\n",
    "                x=df_[\"Sub Category\"],\n",
    "                y=df[i],\n",
    "                showfliers=False,\n",
    "                width=0.5,\n",
    "                order=[\n",
    "                    \"Batteries\",\n",
    "                    \"Brown goods\",\n",
    "                    \"Metals and plastics\",\n",
    "                    \"Miscellaneous\",\n",
    "                    \"White goods\",\n",
    "                    \"Outwith CTR\",\n",
    "                    \"Within CTR\",\n",
    "                ],\n",
    "                **PROPS,\n",
    "                ax=fig.axes[idx],\n",
    "            )\n",
    "        )\n",
    "    )\n",
    "\n",
    "    fig.axes[idx].set_title(i, fontweight=\"bold\", fontsize=18)\n",
    "    fig.axes[idx].set_xlabel(\"\")\n",
    "    fig.axes[idx].set_ylabel(\"Concentration (ng/L)\")\n",
    "    fig.axes[idx].grid(False)\n",
    "    fig.axes[idx].yaxis.set_major_formatter(FormatStrFormatter(\"%.0d\"))\n",
    "    plt.xticks(rotation=45, ha=\"right\")\n",
    "    fig.tight_layout()\n",
    "\n",
    "    if len(pairs) >= 1:\n",
    "        annotator = Annotator(\n",
    "            fig.axes[idx],\n",
    "            pairs,\n",
    "            data=df.query(\n",
    "                \"sub_category.isin(['Brown goods', 'Metals and plastics', 'Miscellaneous', 'White goods', 'Batteries', 'outwith_CTR', 'within_CTR'])\"\n",
    "            ),\n",
    "            x=\"sub_category\",\n",
    "            y=i,\n",
    "            order=[\n",
    "                \"Batteries\",\n",
    "                \"Brown goods\",\n",
    "                \"Metals and plastics\",\n",
    "                \"Miscellaneous\",\n",
    "                \"White goods\",\n",
    "                \"outwith_CTR\",\n",
    "                \"within_CTR\",\n",
    "            ],\n",
    "            verbose=False,\n",
    "        )\n",
    "        annotator.configure(text_format=\"star\", loc=\"inside\", line_width=1, test=None)\n",
    "        annotator.set_pvalues_and_annotate(p_values)\n",
    "    else:\n",
    "        continue\n",
    "plt.suptitle(\"\")\n",
    "plt.savefig(utils.Configuration.PLOTS.joinpath(\"img2.png\"), dpi=600)"
   ]
  },
  {
   "cell_type": "code",
   "execution_count": null,
   "id": "5c26e8a0-93e8-4c49-ad55-c43a87857db3",
   "metadata": {},
   "outputs": [],
   "source": [
    "# Open the images\n",
    "img1 = Image.open(utils.Configuration.PLOTS.joinpath(\"img1.png\"))\n",
    "img2 = Image.open(utils.Configuration.PLOTS.joinpath(\"img2.png\"))\n",
    "\n",
    "# Resize image2 to match the height of image1, keeping aspect ratio\n",
    "img2 = img2.resize((int(img2.size[0] * img1.size[1] / img2.size[1]), img1.size[1]))\n",
    "\n",
    "# Create a new image with width being the sum of both image widths\n",
    "new_img = Image.new(\"RGB\", (img1.width + img2.width, img1.height))\n",
    "\n",
    "# Paste the images\n",
    "new_img.paste(img1, (0, 0))\n",
    "new_img.paste(img2, (img1.width, 0))"
   ]
  },
  {
   "cell_type": "code",
   "execution_count": null,
   "id": "d089fee4-9447-4a9a-b0aa-89592bd144de",
   "metadata": {},
   "outputs": [],
   "source": [
    "draw = ImageDraw.Draw(new_img)\n",
    "font = ImageFont.truetype(r\"C:\\Windows\\Fonts\\Arial.ttf\", 162)\n",
    "draw.text((140, 100), \"A)\", fill=\"black\", font=font)\n",
    "draw.text((2500, 100), \"B)\", fill=\"black\", font=font)\n",
    "new_img.show()"
   ]
  },
  {
   "cell_type": "code",
   "execution_count": null,
   "id": "ccdad80b-7445-42b1-8df8-29c85809a805",
   "metadata": {},
   "outputs": [],
   "source": [
    "new_img.save(utils.Configuration.PLOTS.joinpath(\"meged_figure.png\"))"
   ]
  },
  {
   "cell_type": "code",
   "execution_count": null,
   "id": "63085fd1-3b3d-4d0d-965f-f104be6e983b",
   "metadata": {},
   "outputs": [],
   "source": []
  }
 ],
 "metadata": {
  "kernelspec": {
   "display_name": "Python 3 (ipykernel)",
   "language": "python",
   "name": "python3"
  },
  "language_info": {
   "codemirror_mode": {
    "name": "ipython",
    "version": 3
   },
   "file_extension": ".py",
   "mimetype": "text/x-python",
   "name": "python",
   "nbconvert_exporter": "python",
   "pygments_lexer": "ipython3",
   "version": "3.10.12"
  },
  "toc-autonumbering": true,
  "toc-showcode": false,
  "toc-showmarkdowntxt": false,
  "toc-showtags": false
 },
 "nbformat": 4,
 "nbformat_minor": 5
}
